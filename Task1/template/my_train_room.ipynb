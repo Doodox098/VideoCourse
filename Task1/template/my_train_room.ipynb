{
 "cells": [
  {
   "cell_type": "code",
   "execution_count": 1,
   "metadata": {},
   "outputs": [],
   "source": [
    "from pprint import pprint\n",
    "import pickle\n",
    "import numpy as np\n",
    "import cv2\n",
    "import pandas as pd\n",
    "from tqdm import tqdm_notebook as tqdm\n",
    "from tqdm import notebook\n",
    "import matplotlib.pyplot as plt\n",
    "import seaborn as sns\n",
    "import os\n",
    "import json\n",
    "import pandas as pd\n",
    "from joblib import Parallel, delayed\n",
    "from sklearn.linear_model import LogisticRegression\n",
    "from sklearn.tree import DecisionTreeClassifier\n",
    "from sklearn.svm import SVC\n",
    "\n",
    "#%matplotlib inline\n"
   ]
  },
  {
   "cell_type": "code",
   "execution_count": 2,
   "metadata": {},
   "outputs": [],
   "source": [
    "\n",
    "def load_json_from_file(filename):\n",
    "    with open(filename, \"r\") as f:\n",
    "        return json.load(f, strict=False)\n",
    "\n",
    "\n",
    "def dump_json_to_file(obj, filename, **kwargs):\n",
    "    with open(filename, \"w\") as f:\n",
    "        json.dump(obj, f, **kwargs)"
   ]
  },
  {
   "cell_type": "code",
   "execution_count": 3,
   "metadata": {},
   "outputs": [
    {
     "name": "stdout",
     "output_type": "stream",
     "text": [
      "[{'len': 3250, 'scene_change': 'gt/03.json', 'source': 'video/03.mp4'},\n",
      " {'len': 3392, 'scene_change': 'gt/04.json', 'source': 'video/04.mp4'},\n",
      " {'len': 3321, 'scene_change': 'gt/07.json', 'source': 'video/07.mp4'},\n",
      " {'len': 5662, 'scene_change': 'gt/05.json', 'source': 'video/05.mp4'},\n",
      " {'len': 6096, 'scene_change': 'gt/10.json', 'source': 'video/10.mp4'},\n",
      " {'len': 4898, 'scene_change': 'gt/21.json', 'source': 'video/21.mp4'},\n",
      " {'len': 7749, 'scene_change': 'gt/22.json', 'source': 'video/22.mp4'},\n",
      " {'len': 2326, 'scene_change': 'gt/14.json', 'source': 'video/14.mp4'},\n",
      " {'len': 2904, 'scene_change': 'gt/17.json', 'source': 'video/17.mp4'},\n",
      " {'len': 3396, 'scene_change': 'gt/08.json', 'source': 'video/08.mp4'},\n",
      " {'len': 771, 'scene_change': 'gt/23.json', 'source': 'video/23.mp4'},\n",
      " {'len': 3365, 'scene_change': 'gt/24.json', 'source': 'video/24.mp4'},\n",
      " {'len': 3156, 'scene_change': 'gt/25.json', 'source': 'video/25.mp4'},\n",
      " {'len': 1079, 'scene_change': 'gt/26.json', 'source': 'video/26.mp4'},\n",
      " {'len': 2904, 'scene_change': 'gt/17.json', 'source': 'video/17.mp4'},\n",
      " {'len': 1865, 'scene_change': 'gt/27.json', 'source': 'video/27.mp4'}]\n"
     ]
    }
   ],
   "source": [
    "video_dataset = load_json_from_file('train_dataset/info.json')\n",
    "pprint(video_dataset)"
   ]
  },
  {
   "cell_type": "code",
   "execution_count": 4,
   "metadata": {},
   "outputs": [],
   "source": [
    "\n",
    "def read_video(video_path):\n",
    "    cap = cv2.VideoCapture(video_path)\n",
    "    frames = []\n",
    "    while(cap.isOpened()):\n",
    "        ret, frame = cap.read()\n",
    "        if ret==False:\n",
    "            break\n",
    "        yield frame\n",
    "    cap.release()"
   ]
  },
  {
   "cell_type": "code",
   "execution_count": 5,
   "metadata": {},
   "outputs": [],
   "source": [
    "def calculate_matrix(true_scd, predicted_scd, scene_len, not_to_use_frames=set()):\n",
    "    tp, fp, tn, fn = 0, 0, 0, 0\n",
    "    scene_len = scene_len\n",
    "    for scd in predicted_scd:\n",
    "        if scd in true_scd:\n",
    "            tp += 1\n",
    "        elif scd not in not_to_use_frames:\n",
    "            fp += 1\n",
    "    for scd in true_scd:\n",
    "        if scd not in predicted_scd:\n",
    "            fn += 1\n",
    "    tn = scene_len - len(not_to_use_frames) - tp - fp - fn\n",
    "    return tp, fp, tn, fn\n",
    "\n",
    "\n",
    "def calculate_precision(tp, fp, tn, fn):\n",
    "    return tp / max(1, (tp + fp))\n",
    "\n",
    "\n",
    "def calculate_recall(tp, fp, tn, fn):\n",
    "    return tp / max(1, (tp + fn))\n",
    "\n",
    "\n",
    "def f1_score(true_scd, predicted_scd, scene_len, not_to_use_frames=set()):\n",
    "    tp, fp, tn, fn = calculate_matrix(true_scd, predicted_scd, scene_len, not_to_use_frames)\n",
    "    precision_score = calculate_precision(tp, fp, tn, fn)\n",
    "    recall_score = calculate_recall(tp, fp, tn, fn)\n",
    "    if precision_score + recall_score == 0:\n",
    "        return 0\n",
    "    else:\n",
    "        return 2 * precision_score * recall_score / (precision_score + recall_score)\n",
    "\n",
    "\n",
    "def f1_score_matrix(tp, fp, tn, fn):\n",
    "    precision_score = calculate_precision(tp, fp, tn, fn)\n",
    "    recall_score = calculate_recall(tp, fp, tn, fn)\n",
    "    if precision_score + recall_score == 0:\n",
    "        return 0\n",
    "    else:\n",
    "        return 2 * precision_score * recall_score / (precision_score + recall_score)"
   ]
  },
  {
   "cell_type": "code",
   "execution_count": 6,
   "metadata": {},
   "outputs": [],
   "source": [
    "def run_scene_change_detector_ml_one_video(scene_change_detector, dataset_path, video_num):\n",
    "    video_info = load_json_from_file(os.path.join(dataset_path, 'info.json'))[video_num]\n",
    "\n",
    "    # Загружаем видео, его длину и смены сцен\n",
    "    frames = read_video(os.path.join(dataset_path, video_info['source']))\n",
    "    video_len = video_info['len']\n",
    "    true_scene_changes = load_json_from_file(os.path.join(dataset_path, video_info['scene_change']))\n",
    "\n",
    "    # Составляем список сцен, которые не будут тестироваться\n",
    "    not_use_frames = set()\n",
    "    for type_scene_change in ['trash', 'fade', 'dissolve']:\n",
    "        for bad_scene_range in true_scene_changes.get(type_scene_change, []):\n",
    "            not_use_frames.update(list(range(bad_scene_range[0], bad_scene_range[1] + 1)))\n",
    "\n",
    "    predicted_scene_changes = scene_change_detector(frames)\n",
    "\n",
    "    return  f1_score(\n",
    "        true_scene_changes['cut'],\n",
    "        predicted_scene_changes,\n",
    "        video_len,\n",
    "        not_use_frames\n",
    "    )"
   ]
  },
  {
   "cell_type": "code",
   "execution_count": 7,
   "metadata": {},
   "outputs": [],
   "source": [
    "def pixel_metric(frame, prev_frame):\n",
    "    return np.nanmean((frame[:,:,0].astype(np.int32) - prev_frame[:,:,0]) ** 2)\n",
    "def hist_metric(frame_hist,prev_frame_hist):\n",
    "    return np.nanmean(abs(frame_hist - prev_frame_hist))\n",
    "def hist(frame, mask, hist_size):\n",
    "    return cv2.calcHist([frame],[0], mask, [hist_size], [0, 256])\n",
    "def sobel(frame):\n",
    "    return np.where(cv2.Sobel(frame[:,:,0],cv2.CV_8U,1,0) + cv2.Sobel(frame[:,:,0],cv2.CV_8U,0,1) > 250, 1, 0)\n",
    "def sobel_metric(frame_sobel, prev_frame_sobel):\n",
    "    return np.nanmean((frame_sobel - prev_frame_sobel) ** 2)\n",
    "def br_mean(frame):\n",
    "    return np.mean(frame[:,:,0])\n",
    "def metric_generator(frames):\n",
    "    metrics = []\n",
    "    metric_values = []\n",
    "    hist_metric_values = []\n",
    "    hist_metric_values_1q = []\n",
    "    hist_metric_values_2q = []\n",
    "    hist_metric_values_3q = []\n",
    "    hist_metric_values_4q = []\n",
    "\n",
    "    ### START CODE HERE ###\n",
    "    # Ваши внешние переменные\n",
    "\n",
    "    mask = None\n",
    "    mask_1q = None\n",
    "    mask_2q = None\n",
    "    mask_3q = None\n",
    "    mask_4q = None\n",
    "\n",
    "    prev_frame = None\n",
    "    prev_frame_hist = None\n",
    "    prev_frame_1q_hist = None\n",
    "    prev_frame_2q_hist = None\n",
    "    prev_frame_3q_hist = None\n",
    "    prev_frame_4q_hist = None\n",
    "    prev_frame_sobel = None\n",
    "\n",
    "    hist_size = 256\n",
    "    frames_seq_len = 5\n",
    "\n",
    "    ###  END CODE HERE  ###\n",
    "\n",
    "    for idx, frame in tqdm(enumerate(frames), leave=False):\n",
    "        # frame - это кадр\n",
    "        # idx - это номер кадра\n",
    "        mean = float(0)\n",
    "        hist_mean = float(0)\n",
    "        frame_features = {}\n",
    "        if mask is None:\n",
    "            height, width, _ = frame.shape\n",
    "            mask = np.zeros((height, width), np.uint8)\n",
    "            mask[(2 * height // 7):(5 * height // 7), (2 * width // 7):(5 * width // 7)] = 255\n",
    "\n",
    "            mask_1q = frame[0 : height // 2, 0 : width // 2]\n",
    "            mask_2q = frame[0 : height // 2, width // 2 : width]\n",
    "            mask_3q = frame[height // 2 : height, 0 : width // 2]\n",
    "            mask_4q = frame[height // 2 : height, width // 2 : width]\n",
    "\n",
    "\n",
    "        ### START CODE HERE ###\n",
    "        frame_features['br_mean'] = br_mean(frame)\n",
    "        frame_hist = hist(frame, mask, hist_size)\n",
    "        frame_sobel = sobel(frame)\n",
    "\n",
    "        frame_1q_hist = hist(mask_1q, None, hist_size)\n",
    "        frame_2q_hist = hist(mask_2q, None, hist_size)\n",
    "        frame_3q_hist = hist(mask_3q, None, hist_size)\n",
    "        frame_4q_hist = hist(mask_4q, None, hist_size)\n",
    "\n",
    "        if prev_frame is not None:\n",
    "            frame_features['br_mean_prev'] = br_mean(prev_frame)\n",
    "            metric_value = pixel_metric(frame, prev_frame)\n",
    "            hist_metric_value = hist_metric(frame_hist, prev_frame_hist)\n",
    "            #sobel_metric_value = sobel_metric(frame_sobel, prev_frame_sobel)\n",
    "            metric_values.append(metric_value)\n",
    "            hist_metric_values.append(hist_metric_value)\n",
    "            frame_features['metric_value'] = metric_value\n",
    "            #frame_features['sobel_metric_value'] = sobel_metric_value\n",
    "\n",
    "            hist_metric_value_1q = hist_metric(frame_1q_hist, prev_frame_1q_hist)\n",
    "            hist_metric_value_2q = hist_metric(frame_1q_hist, prev_frame_2q_hist)\n",
    "            hist_metric_value_3q = hist_metric(frame_1q_hist, prev_frame_3q_hist)\n",
    "            hist_metric_value_4q = hist_metric(frame_4q_hist, prev_frame_4q_hist)\n",
    "\n",
    "            hist_metric_values_1q.append(hist_metric_value_1q)\n",
    "            hist_metric_values_2q.append(hist_metric_value_2q)\n",
    "            hist_metric_values_3q.append(hist_metric_value_3q)\n",
    "            hist_metric_values_4q.append(hist_metric_value_4q)\n",
    "\n",
    "            frame_features['hist_metric_value'] =  hist_metric_value\n",
    "            frame_features['hist_metric_value_1q'] =  hist_metric_value_1q\n",
    "            frame_features['hist_metric_value_2q'] =  hist_metric_value_2q\n",
    "            frame_features['hist_metric_value_3q'] =  hist_metric_value_3q\n",
    "            frame_features['hist_metric_value_4q'] =  hist_metric_value_4q\n",
    "\n",
    "            if idx >= frames_seq_len - 1:\n",
    "                mean = float(np.nanmean(metric_values[-frames_seq_len: idx - ((frames_seq_len + 1) // 2) + 1] + metric_values[idx - ((frames_seq_len + 1) // 2) + 2:]))\n",
    "                hist_mean = float(np.nanmean(hist_metric_values[-frames_seq_len: idx - ((frames_seq_len + 1) // 2) + 1] + hist_metric_values[idx - ((frames_seq_len + 1) // 2) + 2:]))\n",
    "                metrics[idx - ((frames_seq_len + 1) // 2) + 1]['mean'] = mean\n",
    "                metrics[idx - ((frames_seq_len + 1) // 2) + 1]['hist_mean'] = hist_mean\n",
    "\n",
    "                hist_mean_1q = float(np.nanmean(hist_metric_values_1q[-frames_seq_len: idx - ((frames_seq_len + 1) // 2) + 1] + hist_metric_values_1q[idx - ((frames_seq_len + 1) // 2) + 2:]))\n",
    "                hist_mean_2q = float(np.nanmean(hist_metric_values_2q[-frames_seq_len: idx - ((frames_seq_len + 1) // 2) + 1] + hist_metric_values_2q[idx - ((frames_seq_len + 1) // 2) + 2:]))\n",
    "                hist_mean_3q = float(np.nanmean(hist_metric_values_3q[-frames_seq_len: idx - ((frames_seq_len + 1) // 2) + 1] + hist_metric_values_3q[idx - ((frames_seq_len + 1) // 2) + 2:]))\n",
    "                hist_mean_4q = float(np.nanmean(hist_metric_values_4q[-frames_seq_len: idx - ((frames_seq_len + 1) // 2) + 1] + hist_metric_values_4q[idx - ((frames_seq_len + 1) // 2) + 2:]))\n",
    "\n",
    "                metrics[idx - ((frames_seq_len + 1) // 2) + 1]['hist_mean_1q'] = hist_mean_1q\n",
    "                metrics[idx - ((frames_seq_len + 1) // 2) + 1]['hist_mean_2q'] = hist_mean_2q\n",
    "                metrics[idx - ((frames_seq_len + 1) // 2) + 1]['hist_mean_3q'] = hist_mean_3q\n",
    "                metrics[idx - ((frames_seq_len + 1) // 2) + 1]['hist_mean_4q'] = hist_mean_4q\n",
    "\n",
    "            elif idx == frames_seq_len - 2:\n",
    "                for i in range(0, (frames_seq_len) // 2):\n",
    "                    mean = float(np.nanmean(metric_values[0: i] + metric_values[i + 1 : (frames_seq_len)// 2 + i + 1]))\n",
    "                    metrics[i]['mean'] = mean\n",
    "                    hist_mean = float(np.nanmean(hist_metric_values[0: i] + hist_metric_values[i + 1 : (frames_seq_len)// 2 + i + 1]))\n",
    "                    metrics[i]['hist_mean'] = hist_mean\n",
    "\n",
    "                    hist_mean_1q = float(np.nanmean(hist_metric_values_1q[0: i] + hist_metric_values_1q[i + 1 : (frames_seq_len)// 2 + i + 1]))\n",
    "                    hist_mean_2q = float(np.nanmean(hist_metric_values_2q[0: i] + hist_metric_values_2q[i + 1 : (frames_seq_len)// 2 + i + 1]))\n",
    "                    hist_mean_3q = float(np.nanmean(hist_metric_values_3q[0: i] + hist_metric_values_3q[i + 1 : (frames_seq_len)// 2 + i + 1]))\n",
    "                    hist_mean_4q = float(np.nanmean(hist_metric_values_4q[0: i] + hist_metric_values_4q[i + 1 : (frames_seq_len)// 2 + i + 1]))\n",
    "\n",
    "                    metrics[i]['hist_mean_1q'] = hist_mean_1q\n",
    "                    metrics[i]['hist_mean_2q'] = hist_mean_2q\n",
    "                    metrics[i]['hist_mean_3q'] = hist_mean_3q\n",
    "                    metrics[i]['hist_mean_4q'] = hist_mean_4q\n",
    "\n",
    "        else:\n",
    "            frame_features['br_mean_prev'] = 0\n",
    "\n",
    "            frame_features['metric_value'] = 0\n",
    "            metric_values.append(0)\n",
    "            frame_features['hist_metric_value'] = 0\n",
    "            hist_metric_values.append(0)\n",
    "            #frame_features['sobel_metric_value'] = 0\n",
    "\n",
    "            frame_features['hist_metric_value_1q'] =  0\n",
    "            frame_features['hist_metric_value_2q'] =  0\n",
    "            frame_features['hist_metric_value_3q'] =  0\n",
    "            frame_features['hist_metric_value_4q'] =  0\n",
    "\n",
    "            hist_metric_values_1q.append(0)\n",
    "            hist_metric_values_2q.append(0)\n",
    "            hist_metric_values_3q.append(0)\n",
    "            hist_metric_values_4q.append(0)\n",
    "\n",
    "        prev_frame = frame\n",
    "        prev_frame_hist = frame_hist\n",
    "        prev_frame_sobel = frame_sobel\n",
    "\n",
    "        prev_frame_1q_hist = frame_1q_hist\n",
    "        prev_frame_2q_hist = frame_2q_hist\n",
    "        prev_frame_3q_hist = frame_3q_hist\n",
    "        prev_frame_4q_hist = frame_4q_hist\n",
    "\n",
    "        metrics.append(frame_features)\n",
    "        ###  END CODE HERE  ###\n",
    "    for i in range(len(metric_values) - (frames_seq_len) // 2, len(metric_values)):\n",
    "        mean = float(np.nanmean(metric_values[i - (frames_seq_len) // 2 : i] + metric_values[i + 1 : len(metric_values)]))\n",
    "        metrics[i]['mean'] = mean\n",
    "        hist_mean = float(np.nanmean(hist_metric_values[i - (frames_seq_len) // 2 : i] + hist_metric_values[i + 1 : len(metric_values)]))\n",
    "        metrics[i]['hist_mean'] = hist_mean\n",
    "\n",
    "        hist_mean_1q = float(np.nanmean(hist_metric_values_1q[i - (frames_seq_len) // 2 : i] + hist_metric_values_1q[i + 1 : len(metric_values)]))\n",
    "        hist_mean_2q = float(np.nanmean(hist_metric_values_2q[i - (frames_seq_len) // 2 : i] + hist_metric_values_2q[i + 1 : len(metric_values)]))\n",
    "        hist_mean_3q = float(np.nanmean(hist_metric_values_3q[i - (frames_seq_len) // 2 : i] + hist_metric_values_3q[i + 1 : len(metric_values)]))\n",
    "        hist_mean_4q = float(np.nanmean(hist_metric_values_4q[i - (frames_seq_len) // 2 : i] + hist_metric_values_4q[i + 1 : len(metric_values)]))\n",
    "\n",
    "        metrics[i]['hist_mean_1q'] = hist_mean_1q\n",
    "        metrics[i]['hist_mean_2q'] = hist_mean_2q\n",
    "        metrics[i]['hist_mean_3q'] = hist_mean_3q\n",
    "        metrics[i]['hist_mean_4q'] = hist_mean_4q\n",
    "\n",
    "    return metrics"
   ]
  },
  {
   "cell_type": "code",
   "execution_count": 7,
   "outputs": [],
   "source": [],
   "metadata": {
    "collapsed": false
   }
  },
  {
   "cell_type": "code",
   "execution_count": 39,
   "metadata": {},
   "outputs": [
    {
     "data": {
      "text/plain": "<Figure size 640x480 with 4 Axes>",
      "image/png": "[encoded data removed]"
     },
     "metadata": {},
     "output_type": "display_data"
    }
   ],
   "source": [
    " #Testing Data\n",
    "hist_size = 256\n",
    "frames = read_video(os.path.join('train_dataset', 'video', '24.mp4'))\n",
    "\n",
    "for i in range(0, 855):\n",
    "    next(frames)\n",
    "frame = next(frames)\n",
    "height, width, _ = frame.shape\n",
    "mask = np.zeros((height, width), np.uint8)\n",
    "masked_img = frame[(height // 5):(4 * height // 5), (width // 7):(6 * width // 7)]\n",
    "mask[(height // 5):(4 * height // 5), (width // 7):(6 * width // 7)] = 255\n",
    "sobel_img = cv2.Sobel(frame[:,:,0],cv2.CV_8U,1,0) + cv2.Sobel(frame[:,:,0],cv2.CV_8U,0,1)\n",
    "frame = next(frames)\n",
    "sobel_img_2 = cv2.Sobel(frame[:,:,0],cv2.CV_8U,1,0) + cv2.Sobel(frame[:,:,0],cv2.CV_8U,0,1)\n",
    "sobel_img = np.where(sobel_img - sobel_img_2 > 245, 255, 0)\n",
    "hist_full = hist(frame, None, hist_size)\n",
    "hist_mask = hist(frame, mask, hist_size)\n",
    "plt.subplot(221), plt.imshow(frame[:,:,0])\n",
    "plt.subplot(222), plt.imshow(frame[:,:,1])\n",
    "plt.subplot(223), plt.imshow(frame[:,:,2])\n",
    "plt.subplot(224), plt.plot(hist_full), plt.plot(hist_mask)\n",
    "plt.xlim([0,hist_size])\n",
    "plt.show()"
   ]
  },
  {
   "cell_type": "code",
   "execution_count": 141,
   "outputs": [
    {
     "name": "stderr",
     "output_type": "stream",
     "text": [
      "C:\\Users\\doodo\\AppData\\Local\\Temp\\ipykernel_21448\\1342939434.py:4: TqdmDeprecationWarning: This function will be removed in tqdm==5.0.0\n",
      "Please use `tqdm.notebook.tqdm` instead of `tqdm.tqdm_notebook`\n",
      "  for idx, frame in tqdm(enumerate(frames)):\n"
     ]
    },
    {
     "data": {
      "text/plain": "0it [00:00, ?it/s]",
      "application/vnd.jupyter.widget-view+json": {
       "version_major": 2,
       "version_minor": 0,
       "model_id": "bbfbb9379f7d41ca995d98a0c3f35d93"
      },
      "application/json": {
       "n": 0,
       "total": null,
       "elapsed": 0.013001203536987305,
       "ncols": null,
       "nrows": null,
       "prefix": "",
       "ascii": false,
       "unit": "it",
       "unit_scale": false,
       "rate": null,
       "bar_format": null,
       "postfix": null,
       "unit_divisor": 1000,
       "initial": 0,
       "colour": null
      }
     },
     "metadata": {},
     "output_type": "display_data"
    }
   ],
   "source": [
    "for i in range(14, 15):\n",
    "    frames = read_video(os.path.join('train_dataset', 'video', f'{i}.mp4'))\n",
    "    os.makedirs(f'{i}')\n",
    "    for idx, frame in tqdm(enumerate(frames)):\n",
    "        path = f\"{i}/{idx}.png\"\n",
    "        cv2.imwrite(path, frame)"
   ],
   "metadata": {
    "collapsed": false
   }
  },
  {
   "cell_type": "code",
   "execution_count": 8,
   "metadata": {},
   "outputs": [],
   "source": [
    "def my_get_train_data(train_videos):\n",
    "    X_train, y_train = pd.DataFrame(), np.array([])\n",
    "    for video in tqdm(train_videos):\n",
    "        frames = read_video(os.path.join('train_dataset', 'video', f'{video}.mp4'))\n",
    "        # baseline функция попиксельного сравнения кадров из прошлого задания\n",
    "        # нам нужны не сами смены сцен, а только значения метрик\n",
    "        metrics = metric_generator(frames)\n",
    "\n",
    "        cuts = load_json_from_file(os.path.join('train_dataset', 'gt', f'{video}.json'))['cut']\n",
    "        video_scenes = np.array([False for i in range(len(metrics))])\n",
    "        video_scenes[cuts] = True\n",
    "\n",
    "        # добавляем в разметку текущее видео\n",
    "        X_train = X_train.append(metrics)\n",
    "        y_train = np.hstack((y_train, video_scenes))\n",
    "\n",
    "    return X_train, y_train"
   ]
  },
  {
   "cell_type": "code",
   "execution_count": 122,
   "outputs": [],
   "source": [
    "def my_get_train_data_dissolve(train_videos):\n",
    "    X_train, y_train = pd.DataFrame(), np.array([])\n",
    "    for video in tqdm(train_videos):\n",
    "        frames = read_video(os.path.join('train_dataset', 'video', f'{video}.mp4'))\n",
    "        # baseline функция попиксельного сравнения кадров из прошлого задания\n",
    "        # нам нужны не сами смены сцен, а только значения метрик\n",
    "        metrics = metric_generator(frames)\n",
    "        dissolves = []\n",
    "        cuts = load_json_from_file(os.path.join('train_dataset', 'gt', f'{video}.json'))['dissolve']\n",
    "        for l in cuts:\n",
    "            dissolves.extend(range(l[0], l[1] + 1))\n",
    "        video_scenes = np.array([False for i in range(len(metrics))])\n",
    "        video_scenes[dissolves] = True\n",
    "\n",
    "        # добавляем в разметку текущее видео\n",
    "        X_train = X_train.append(metrics)\n",
    "        y_train = np.hstack((y_train, video_scenes))\n",
    "\n",
    "    return X_train, y_train"
   ],
   "metadata": {
    "collapsed": false
   }
  },
  {
   "cell_type": "code",
   "execution_count": 11,
   "metadata": {},
   "outputs": [],
   "source": [
    "\n",
    "def scene_change_detector_ml(frames, with_vis = False):\n",
    "\n",
    "    def pixel_metric(frame, prev_frame):\n",
    "        return np.nanmean((frame.astype(np.int32) - prev_frame) ** 2)\n",
    "    def hist_metric(frame_hist,prev_frame_hist):\n",
    "        return np.nanmean(abs(frame_hist - prev_frame_hist))\n",
    "    def hist(frame, mask, hist_size):\n",
    "        return cv2.calcHist([frame],[0], mask, [hist_size], [0, 256])\n",
    "\n",
    "    def metric_generator(frames):\n",
    "        metrics = []\n",
    "        metric_values = []\n",
    "        hist_metric_values = []\n",
    "\n",
    "        ### START CODE HERE ###\n",
    "        # Ваши внешние переменные\n",
    "\n",
    "        mask = None\n",
    "\n",
    "        prev_frame = None\n",
    "        prev_frame_hist = None\n",
    "        hist_size = 64\n",
    "        frames_seq_len = 7\n",
    "\n",
    "        ###  END CODE HERE  ###\n",
    "\n",
    "        for idx, frame in tqdm(enumerate(frames), leave=False):\n",
    "            # frame - это кадр\n",
    "            # idx - это номер кадра\n",
    "            mean = float(0)\n",
    "            hist_mean = float(0)\n",
    "            frame_features = {}\n",
    "            if mask is None:\n",
    "                height, width, _ = frame.shape\n",
    "                mask = np.zeros((height, width), np.uint8)\n",
    "                mask[(height // 5):(4 * height // 5), (width // 7):(6 * width // 7)] = 255\n",
    "\n",
    "            ### START CODE HERE ###\n",
    "            frame_hist = hist(frame, mask, hist_size)\n",
    "            if prev_frame is not None:\n",
    "                metric_value = pixel_metric(frame, prev_frame)\n",
    "                hist_metric_value = hist_metric(frame_hist, prev_frame_hist)\n",
    "                metric_values.append(metric_value)\n",
    "                hist_metric_values.append(hist_metric_value)\n",
    "                frame_features['metric_value'] = metric_value\n",
    "                frame_features['hist_metric_value'] =  hist_metric_value\n",
    "\n",
    "                if idx >= frames_seq_len - 1:\n",
    "                    mean = float(np.nanmean(metric_values[-frames_seq_len: idx - ((frames_seq_len + 1) // 2) + 1] + metric_values[idx - ((frames_seq_len + 1) // 2) + 2:]))\n",
    "                    hist_mean = float(np.nanmean(hist_metric_values[-frames_seq_len: idx - ((frames_seq_len + 1) // 2) + 1] + hist_metric_values[idx - ((frames_seq_len + 1) // 2) + 2:]))\n",
    "                    metrics[idx - ((frames_seq_len + 1) // 2) + 1]['mean'] = mean\n",
    "                    metrics[idx - ((frames_seq_len + 1) // 2) + 1]['hist_mean'] = hist_mean\n",
    "                elif idx == frames_seq_len - 2:\n",
    "                    for i in range(0, (frames_seq_len) // 2):\n",
    "                        mean = float(np.nanmean(metric_values[0: i] + metric_values[i + 1 : (frames_seq_len)// 2 + i + 1]))\n",
    "                        metrics[i]['mean'] = mean\n",
    "                        hist_mean = float(np.nanmean(hist_metric_values[0: i] + hist_metric_values[i + 1 : (frames_seq_len)// 2 + i + 1]))\n",
    "                        metrics[i]['hist_mean'] = hist_mean\n",
    "            else:\n",
    "                frame_features['metric_value'] = 0\n",
    "                metric_values.append(0)\n",
    "                frame_features['hist_metric_value'] = 0\n",
    "                hist_metric_values.append(0)\n",
    "            prev_frame = frame\n",
    "            prev_frame_hist = frame_hist\n",
    "            metrics.append(frame_features)\n",
    "            ###  END CODE HERE  ###\n",
    "        for i in range(len(metric_values) - (frames_seq_len) // 2, len(metric_values)):\n",
    "            mean = float(np.nanmean(metric_values[i - (frames_seq_len) // 2 : i] + metric_values[i + 1 : len(metric_values)]))\n",
    "            metrics[i]['mean'] = mean\n",
    "            hist_mean = float(np.nanmean(hist_metric_values[i - (frames_seq_len) // 2 : i] + hist_metric_values[i + 1 : len(metric_values)]))\n",
    "            metrics[i]['hist_mean'] = hist_mean\n",
    "        return metrics\n",
    "\n",
    "    X_test = pd.DataFrame(metric_generator(frames))\n",
    "    # загружаем модель и делаем предсказания\n",
    "    model = pickle.load(open(\"model.pkl\", 'rb'))\n",
    "    predict_cuts = model.predict(X_test)\n",
    "    return np.where(predict_cuts > 0)[0]"
   ]
  },
  {
   "cell_type": "code",
   "execution_count": 120,
   "metadata": {},
   "outputs": [],
   "source": [
    "video = '03'\n",
    "dissolves = []\n",
    "cuts = load_json_from_file(os.path.join('train_dataset', 'gt', f'{video}.json'))['dissolve']\n",
    "for l in cuts:\n",
    "    dissolves.extend(range(l[0], l[1] + 1))"
   ]
  },
  {
   "cell_type": "code",
   "execution_count": 121,
   "outputs": [
    {
     "data": {
      "text/plain": "[422,\n 423,\n 424,\n 425,\n 426,\n 427,\n 428,\n 538,\n 539,\n 540,\n 541,\n 542,\n 543,\n 781,\n 782,\n 783,\n 784,\n 785,\n 786,\n 787,\n 915,\n 916,\n 917,\n 918,\n 919,\n 920,\n 921,\n 1648,\n 1649,\n 1650,\n 1651,\n 1652,\n 1653,\n 1654,\n 1768,\n 1769,\n 1770,\n 1771,\n 1772,\n 1773,\n 1774,\n 2071,\n 2072,\n 2073,\n 2074,\n 2075,\n 2076,\n 2077,\n 2226,\n 2227,\n 2228,\n 2229,\n 2230,\n 2231,\n 2232]"
     },
     "execution_count": 121,
     "metadata": {},
     "output_type": "execute_result"
    }
   ],
   "source": [
    "dissolves"
   ],
   "metadata": {
    "collapsed": false
   }
  },
  {
   "cell_type": "code",
   "execution_count": 22,
   "metadata": {},
   "outputs": [
    {
     "name": "stderr",
     "output_type": "stream",
     "text": [
      "C:\\Users\\doodo\\AppData\\Local\\Temp\\ipykernel_1852\\2724818439.py:44: TqdmDeprecationWarning: This function will be removed in tqdm==5.0.0\n",
      "Please use `tqdm.notebook.tqdm` instead of `tqdm.tqdm_notebook`\n",
      "  for idx, frame in tqdm(enumerate(frames), leave=False):\n"
     ]
    },
    {
     "data": {
      "text/plain": "0it [00:00, ?it/s]",
      "application/vnd.jupyter.widget-view+json": {
       "version_major": 2,
       "version_minor": 0,
       "model_id": "26f6b69b80ce4216be45140d9f4e7897"
      },
      "application/json": {
       "n": 0,
       "total": null,
       "elapsed": 0.00668787956237793,
       "ncols": null,
       "nrows": null,
       "prefix": "",
       "ascii": false,
       "unit": "it",
       "unit_scale": false,
       "rate": null,
       "bar_format": null,
       "postfix": null,
       "unit_divisor": 1000,
       "initial": 0,
       "colour": null
      }
     },
     "metadata": {},
     "output_type": "display_data"
    },
    {
     "ename": "KeyboardInterrupt",
     "evalue": "",
     "output_type": "error",
     "traceback": [
      "\u001B[1;31m---------------------------------------------------------------------------\u001B[0m",
      "\u001B[1;31mKeyboardInterrupt\u001B[0m                         Traceback (most recent call last)",
      "Cell \u001B[1;32mIn[22], line 2\u001B[0m\n\u001B[0;32m      1\u001B[0m frames \u001B[38;5;241m=\u001B[39m read_video(os\u001B[38;5;241m.\u001B[39mpath\u001B[38;5;241m.\u001B[39mjoin(\u001B[38;5;124m'\u001B[39m\u001B[38;5;124mtrain_dataset\u001B[39m\u001B[38;5;124m'\u001B[39m, \u001B[38;5;124m'\u001B[39m\u001B[38;5;124mvideo\u001B[39m\u001B[38;5;124m'\u001B[39m, \u001B[38;5;124m'\u001B[39m\u001B[38;5;124m14.mp4\u001B[39m\u001B[38;5;124m'\u001B[39m))\n\u001B[1;32m----> 2\u001B[0m X_train_s \u001B[38;5;241m=\u001B[39m \u001B[43mmetric_generator\u001B[49m\u001B[43m(\u001B[49m\u001B[43mframes\u001B[49m\u001B[43m)\u001B[49m\n\u001B[0;32m      3\u001B[0m X_train_s \u001B[38;5;241m=\u001B[39m pd\u001B[38;5;241m.\u001B[39mDataFrame(X_train_s)\n",
      "Cell \u001B[1;32mIn[21], line 75\u001B[0m, in \u001B[0;36mmetric_generator\u001B[1;34m(frames)\u001B[0m\n\u001B[0;32m     73\u001B[0m metric_value \u001B[38;5;241m=\u001B[39m pixel_metric(frame, prev_frame)\n\u001B[0;32m     74\u001B[0m hist_metric_value \u001B[38;5;241m=\u001B[39m hist_metric(frame_hist, prev_frame_hist)\n\u001B[1;32m---> 75\u001B[0m sobel_metric_value \u001B[38;5;241m=\u001B[39m \u001B[43msobel_metric\u001B[49m\u001B[43m(\u001B[49m\u001B[43mframe_sobel\u001B[49m\u001B[43m,\u001B[49m\u001B[43m \u001B[49m\u001B[43mprev_frame_sobel\u001B[49m\u001B[43m)\u001B[49m\n\u001B[0;32m     76\u001B[0m metric_values\u001B[38;5;241m.\u001B[39mappend(metric_value)\n\u001B[0;32m     77\u001B[0m hist_metric_values\u001B[38;5;241m.\u001B[39mappend(hist_metric_value)\n",
      "Cell \u001B[1;32mIn[21], line 10\u001B[0m, in \u001B[0;36msobel_metric\u001B[1;34m(frame_sobel, prev_frame_sobel)\u001B[0m\n\u001B[0;32m      9\u001B[0m \u001B[38;5;28;01mdef\u001B[39;00m \u001B[38;5;21msobel_metric\u001B[39m(frame_sobel, prev_frame_sobel):\n\u001B[1;32m---> 10\u001B[0m     \u001B[38;5;28;01mreturn\u001B[39;00m \u001B[43mnp\u001B[49m\u001B[38;5;241;43m.\u001B[39;49m\u001B[43mnanmean\u001B[49m\u001B[43m(\u001B[49m\u001B[43m(\u001B[49m\u001B[43mframe_sobel\u001B[49m\u001B[43m \u001B[49m\u001B[38;5;241;43m-\u001B[39;49m\u001B[43m \u001B[49m\u001B[43mprev_frame_sobel\u001B[49m\u001B[43m)\u001B[49m\u001B[43m \u001B[49m\u001B[38;5;241;43m*\u001B[39;49m\u001B[38;5;241;43m*\u001B[39;49m\u001B[43m \u001B[49m\u001B[38;5;241;43m2\u001B[39;49m\u001B[43m)\u001B[49m\n",
      "File \u001B[1;32m<__array_function__ internals>:177\u001B[0m, in \u001B[0;36mnanmean\u001B[1;34m(*args, **kwargs)\u001B[0m\n",
      "\u001B[1;31mKeyboardInterrupt\u001B[0m: "
     ]
    }
   ],
   "source": [
    "frames = read_video(os.path.join('train_dataset', 'video', '14.mp4'))\n",
    "X_train_s = metric_generator(frames)\n",
    "X_train_s = pd.DataFrame(X_train_s)"
   ]
  },
  {
   "cell_type": "markdown",
   "source": [],
   "metadata": {
    "collapsed": false
   }
  },
  {
   "cell_type": "code",
   "execution_count": 9,
   "metadata": {},
   "outputs": [
    {
     "name": "stderr",
     "output_type": "stream",
     "text": [
      "C:\\Users\\doodo\\AppData\\Local\\Temp\\ipykernel_20484\\706906862.py:3: TqdmDeprecationWarning: This function will be removed in tqdm==5.0.0\n",
      "Please use `tqdm.notebook.tqdm` instead of `tqdm.tqdm_notebook`\n",
      "  for video in tqdm(train_videos):\n"
     ]
    },
    {
     "data": {
      "text/plain": "  0%|          | 0/8 [00:00<?, ?it/s]",
      "application/vnd.jupyter.widget-view+json": {
       "version_major": 2,
       "version_minor": 0,
       "model_id": "e2376f541788474bab4dc9a3956b5cb0"
      },
      "application/json": {
       "n": 0,
       "total": 8,
       "elapsed": 0.010998249053955078,
       "ncols": null,
       "nrows": null,
       "prefix": "",
       "ascii": false,
       "unit": "it",
       "unit_scale": false,
       "rate": null,
       "bar_format": null,
       "postfix": null,
       "unit_divisor": 1000,
       "initial": 0,
       "colour": null
      }
     },
     "metadata": {},
     "output_type": "display_data"
    },
    {
     "name": "stderr",
     "output_type": "stream",
     "text": [
      "C:\\Users\\doodo\\AppData\\Local\\Temp\\ipykernel_20484\\3588072560.py:44: TqdmDeprecationWarning: This function will be removed in tqdm==5.0.0\n",
      "Please use `tqdm.notebook.tqdm` instead of `tqdm.tqdm_notebook`\n",
      "  for idx, frame in tqdm(enumerate(frames), leave=False):\n"
     ]
    },
    {
     "data": {
      "text/plain": "0it [00:00, ?it/s]",
      "application/vnd.jupyter.widget-view+json": {
       "version_major": 2,
       "version_minor": 0,
       "model_id": "095789d7423f4c44b720894b5cd2b41d"
      },
      "application/json": {
       "n": 0,
       "total": null,
       "elapsed": 0.011007547378540039,
       "ncols": null,
       "nrows": null,
       "prefix": "",
       "ascii": false,
       "unit": "it",
       "unit_scale": false,
       "rate": null,
       "bar_format": null,
       "postfix": null,
       "unit_divisor": 1000,
       "initial": 0,
       "colour": null
      }
     },
     "metadata": {},
     "output_type": "display_data"
    },
    {
     "name": "stderr",
     "output_type": "stream",
     "text": [
      "C:\\Users\\doodo\\AppData\\Local\\Temp\\ipykernel_20484\\706906862.py:14: FutureWarning: The frame.append method is deprecated and will be removed from pandas in a future version. Use pandas.concat instead.\n",
      "  X_train = X_train.append(metrics)\n",
      "C:\\Users\\doodo\\AppData\\Local\\Temp\\ipykernel_20484\\3588072560.py:44: TqdmDeprecationWarning: This function will be removed in tqdm==5.0.0\n",
      "Please use `tqdm.notebook.tqdm` instead of `tqdm.tqdm_notebook`\n",
      "  for idx, frame in tqdm(enumerate(frames), leave=False):\n"
     ]
    },
    {
     "data": {
      "text/plain": "0it [00:00, ?it/s]",
      "application/vnd.jupyter.widget-view+json": {
       "version_major": 2,
       "version_minor": 0,
       "model_id": "95eceef77bb7493cab70d526bec1ebb1"
      },
      "application/json": {
       "n": 0,
       "total": null,
       "elapsed": 0.0040743350982666016,
       "ncols": null,
       "nrows": null,
       "prefix": "",
       "ascii": false,
       "unit": "it",
       "unit_scale": false,
       "rate": null,
       "bar_format": null,
       "postfix": null,
       "unit_divisor": 1000,
       "initial": 0,
       "colour": null
      }
     },
     "metadata": {},
     "output_type": "display_data"
    },
    {
     "name": "stderr",
     "output_type": "stream",
     "text": [
      "C:\\Users\\doodo\\AppData\\Local\\Temp\\ipykernel_20484\\706906862.py:14: FutureWarning: The frame.append method is deprecated and will be removed from pandas in a future version. Use pandas.concat instead.\n",
      "  X_train = X_train.append(metrics)\n",
      "C:\\Users\\doodo\\AppData\\Local\\Temp\\ipykernel_20484\\3588072560.py:44: TqdmDeprecationWarning: This function will be removed in tqdm==5.0.0\n",
      "Please use `tqdm.notebook.tqdm` instead of `tqdm.tqdm_notebook`\n",
      "  for idx, frame in tqdm(enumerate(frames), leave=False):\n"
     ]
    },
    {
     "data": {
      "text/plain": "0it [00:00, ?it/s]",
      "application/vnd.jupyter.widget-view+json": {
       "version_major": 2,
       "version_minor": 0,
       "model_id": "744ac9256b5647e083679220e94cdc95"
      },
      "application/json": {
       "n": 0,
       "total": null,
       "elapsed": 0.0050013065338134766,
       "ncols": null,
       "nrows": null,
       "prefix": "",
       "ascii": false,
       "unit": "it",
       "unit_scale": false,
       "rate": null,
       "bar_format": null,
       "postfix": null,
       "unit_divisor": 1000,
       "initial": 0,
       "colour": null
      }
     },
     "metadata": {},
     "output_type": "display_data"
    },
    {
     "name": "stderr",
     "output_type": "stream",
     "text": [
      "C:\\Users\\doodo\\AppData\\Local\\Temp\\ipykernel_20484\\706906862.py:14: FutureWarning: The frame.append method is deprecated and will be removed from pandas in a future version. Use pandas.concat instead.\n",
      "  X_train = X_train.append(metrics)\n",
      "C:\\Users\\doodo\\AppData\\Local\\Temp\\ipykernel_20484\\3588072560.py:44: TqdmDeprecationWarning: This function will be removed in tqdm==5.0.0\n",
      "Please use `tqdm.notebook.tqdm` instead of `tqdm.tqdm_notebook`\n",
      "  for idx, frame in tqdm(enumerate(frames), leave=False):\n"
     ]
    },
    {
     "data": {
      "text/plain": "0it [00:00, ?it/s]",
      "application/vnd.jupyter.widget-view+json": {
       "version_major": 2,
       "version_minor": 0,
       "model_id": "31a8667d92244142b33257d995080cfc"
      },
      "application/json": {
       "n": 0,
       "total": null,
       "elapsed": 0.0,
       "ncols": null,
       "nrows": null,
       "prefix": "",
       "ascii": false,
       "unit": "it",
       "unit_scale": false,
       "rate": null,
       "bar_format": null,
       "postfix": null,
       "unit_divisor": 1000,
       "initial": 0,
       "colour": null
      }
     },
     "metadata": {},
     "output_type": "display_data"
    },
    {
     "name": "stderr",
     "output_type": "stream",
     "text": [
      "C:\\Users\\doodo\\AppData\\Local\\Temp\\ipykernel_20484\\706906862.py:14: FutureWarning: The frame.append method is deprecated and will be removed from pandas in a future version. Use pandas.concat instead.\n",
      "  X_train = X_train.append(metrics)\n",
      "C:\\Users\\doodo\\AppData\\Local\\Temp\\ipykernel_20484\\3588072560.py:44: TqdmDeprecationWarning: This function will be removed in tqdm==5.0.0\n",
      "Please use `tqdm.notebook.tqdm` instead of `tqdm.tqdm_notebook`\n",
      "  for idx, frame in tqdm(enumerate(frames), leave=False):\n"
     ]
    },
    {
     "data": {
      "text/plain": "0it [00:00, ?it/s]",
      "application/vnd.jupyter.widget-view+json": {
       "version_major": 2,
       "version_minor": 0,
       "model_id": "8454c933aeac45369897868077d328fd"
      },
      "application/json": {
       "n": 0,
       "total": null,
       "elapsed": 0.005997657775878906,
       "ncols": null,
       "nrows": null,
       "prefix": "",
       "ascii": false,
       "unit": "it",
       "unit_scale": false,
       "rate": null,
       "bar_format": null,
       "postfix": null,
       "unit_divisor": 1000,
       "initial": 0,
       "colour": null
      }
     },
     "metadata": {},
     "output_type": "display_data"
    },
    {
     "name": "stderr",
     "output_type": "stream",
     "text": [
      "C:\\Users\\doodo\\AppData\\Local\\Temp\\ipykernel_20484\\706906862.py:14: FutureWarning: The frame.append method is deprecated and will be removed from pandas in a future version. Use pandas.concat instead.\n",
      "  X_train = X_train.append(metrics)\n",
      "C:\\Users\\doodo\\AppData\\Local\\Temp\\ipykernel_20484\\3588072560.py:44: TqdmDeprecationWarning: This function will be removed in tqdm==5.0.0\n",
      "Please use `tqdm.notebook.tqdm` instead of `tqdm.tqdm_notebook`\n",
      "  for idx, frame in tqdm(enumerate(frames), leave=False):\n"
     ]
    },
    {
     "data": {
      "text/plain": "0it [00:00, ?it/s]",
      "application/vnd.jupyter.widget-view+json": {
       "version_major": 2,
       "version_minor": 0,
       "model_id": "35803cd032614d7da6947a2a5896c44b"
      },
      "application/json": {
       "n": 0,
       "total": null,
       "elapsed": 0.005148649215698242,
       "ncols": null,
       "nrows": null,
       "prefix": "",
       "ascii": false,
       "unit": "it",
       "unit_scale": false,
       "rate": null,
       "bar_format": null,
       "postfix": null,
       "unit_divisor": 1000,
       "initial": 0,
       "colour": null
      }
     },
     "metadata": {},
     "output_type": "display_data"
    },
    {
     "name": "stderr",
     "output_type": "stream",
     "text": [
      "C:\\Users\\doodo\\AppData\\Local\\Temp\\ipykernel_20484\\706906862.py:14: FutureWarning: The frame.append method is deprecated and will be removed from pandas in a future version. Use pandas.concat instead.\n",
      "  X_train = X_train.append(metrics)\n",
      "C:\\Users\\doodo\\AppData\\Local\\Temp\\ipykernel_20484\\3588072560.py:44: TqdmDeprecationWarning: This function will be removed in tqdm==5.0.0\n",
      "Please use `tqdm.notebook.tqdm` instead of `tqdm.tqdm_notebook`\n",
      "  for idx, frame in tqdm(enumerate(frames), leave=False):\n"
     ]
    },
    {
     "data": {
      "text/plain": "0it [00:00, ?it/s]",
      "application/vnd.jupyter.widget-view+json": {
       "version_major": 2,
       "version_minor": 0,
       "model_id": "8343cb45016943338d3c08d8ef0c65b0"
      },
      "application/json": {
       "n": 0,
       "total": null,
       "elapsed": 0.006020545959472656,
       "ncols": null,
       "nrows": null,
       "prefix": "",
       "ascii": false,
       "unit": "it",
       "unit_scale": false,
       "rate": null,
       "bar_format": null,
       "postfix": null,
       "unit_divisor": 1000,
       "initial": 0,
       "colour": null
      }
     },
     "metadata": {},
     "output_type": "display_data"
    },
    {
     "name": "stderr",
     "output_type": "stream",
     "text": [
      "C:\\Users\\doodo\\AppData\\Local\\Temp\\ipykernel_20484\\706906862.py:14: FutureWarning: The frame.append method is deprecated and will be removed from pandas in a future version. Use pandas.concat instead.\n",
      "  X_train = X_train.append(metrics)\n",
      "C:\\Users\\doodo\\AppData\\Local\\Temp\\ipykernel_20484\\3588072560.py:44: TqdmDeprecationWarning: This function will be removed in tqdm==5.0.0\n",
      "Please use `tqdm.notebook.tqdm` instead of `tqdm.tqdm_notebook`\n",
      "  for idx, frame in tqdm(enumerate(frames), leave=False):\n"
     ]
    },
    {
     "data": {
      "text/plain": "0it [00:00, ?it/s]",
      "application/vnd.jupyter.widget-view+json": {
       "version_major": 2,
       "version_minor": 0,
       "model_id": "d5660d71cb3c4a3e8ec039dec67c0dfe"
      },
      "application/json": {
       "n": 0,
       "total": null,
       "elapsed": 0.006998538970947266,
       "ncols": null,
       "nrows": null,
       "prefix": "",
       "ascii": false,
       "unit": "it",
       "unit_scale": false,
       "rate": null,
       "bar_format": null,
       "postfix": null,
       "unit_divisor": 1000,
       "initial": 0,
       "colour": null
      }
     },
     "metadata": {},
     "output_type": "display_data"
    },
    {
     "name": "stderr",
     "output_type": "stream",
     "text": [
      "C:\\Users\\doodo\\AppData\\Local\\Temp\\ipykernel_20484\\706906862.py:14: FutureWarning: The frame.append method is deprecated and will be removed from pandas in a future version. Use pandas.concat instead.\n",
      "  X_train = X_train.append(metrics)\n"
     ]
    }
   ],
   "source": [
    "train_videos = ['04', '03', '05', '10', '07', '21', '22', '24']\n",
    "# '24','23','26','25'\n",
    "#\n",
    "#, '14', '17', '08'\n",
    "X_train, y_train = my_get_train_data(train_videos)"
   ]
  },
  {
   "cell_type": "code",
   "execution_count": null,
   "metadata": {},
   "outputs": [],
   "source": [
    "train_features = X_train\n",
    "train_features[\"is_cut\"] = y_train"
   ]
  },
  {
   "cell_type": "code",
   "execution_count": 91,
   "outputs": [
    {
     "data": {
      "text/plain": "<AxesSubplot:xlabel='is_cut', ylabel='hist_mean'>"
     },
     "execution_count": 91,
     "metadata": {},
     "output_type": "execute_result"
    },
    {
     "data": {
      "text/plain": "<Figure size 640x480 with 1 Axes>",
      "image/png": "[encoded data removed]"
     },
     "metadata": {},
     "output_type": "display_data"
    }
   ],
   "source": [
    "sns.boxplot(\n",
    "    data = train_features,\n",
    "    x = 'is_cut',\n",
    "    y = 'hist_mean',\n",
    ")"
   ],
   "metadata": {
    "collapsed": false
   }
  },
  {
   "cell_type": "code",
   "execution_count": 12,
   "metadata": {},
   "outputs": [],
   "source": [
    "train_features_json = train_features.to_json()"
   ]
  },
  {
   "cell_type": "code",
   "execution_count": 18,
   "metadata": {},
   "outputs": [],
   "source": [
    "with open('train_features.json', 'w') as f:\n",
    "    f.write(train_features_json)"
   ]
  },
  {
   "cell_type": "code",
   "execution_count": 65,
   "metadata": {},
   "outputs": [
    {
     "data": {
      "text/plain": "      metric_value  hist_metric_value         mean    hist_mean  is_cut\n80     3476.272690       9.269046e+08   594.864337  133074864.0     1.0\n137    3522.453674       1.050390e+08   781.753825   15937765.0     1.0\n236    3679.313353       7.827634e+08   773.613122  142556368.0     1.0\n323    3016.214865       2.922631e+08   750.098955   42663136.0     1.0\n472    2622.665550       3.009939e+08   765.693628   45974548.0     1.0\n538    3126.071298       1.169361e+09  1162.465180  171844752.0     1.0\n677    4504.607294       8.255324e+08  1194.087990  124572888.0     1.0\n745    4437.530721       2.185859e+09   660.748464  312552128.0     1.0\n885    3279.402293       1.128361e+09   477.464376  161279664.0     1.0\n1080   2262.528938       1.438220e+08   448.881085   32646876.0     1.0\n1187  11233.930079       8.248106e+08  1786.293759  118623768.0     1.0\n1281  14712.636308       3.969136e+08  2261.980401   56989692.0     1.0\n1399   6931.424884       8.835730e+08  1060.921733  126565848.0     1.0\n1458   8934.270685       1.054737e+09  1313.532112  150908400.0     1.0\n1543  10034.386714       1.578457e+09  1618.093530  226378160.0     1.0\n1650   5022.168093       1.668605e+09  1004.686749  238741216.0     1.0\n1709   1038.068630       8.505100e+08   152.095922  121538864.0     1.0\n1757   3479.045494       1.868271e+08   618.367193   27019542.0     1.0\n1808   3493.732078       1.207466e+09   964.034286  172898128.0     1.0\n1863   6906.886857       2.330524e+09  1040.196840  334797984.0     1.0\n1960   6886.497625       2.835548e+08  1690.770406   41606532.0     1.0\n2227   8735.940832       2.843654e+09  1424.834907  409297504.0     1.0\n2593   1544.407391       8.369112e+08   265.705096  120035336.0     1.0\n2658   3339.915812       2.218067e+09   482.900141  316936384.0     1.0\n2757   1668.034280       9.506284e+08   274.685413  136023392.0     1.0\n2812   2242.102253       2.687218e+09   370.477709  384285504.0     1.0\n2884   1201.125978       4.284266e+08   307.886692   62431908.0     1.0\n2982   2037.485563       1.610421e+09   311.429640  230487072.0     1.0\n3076   2830.626052       2.499529e+09   562.517122  360472352.0     1.0\n3181   2811.695661       1.516848e+09   544.073987  217290864.0     1.0",
      "text/html": "<div>\n<style scoped>\n    .dataframe tbody tr th:only-of-type {\n        vertical-align: middle;\n    }\n\n    .dataframe tbody tr th {\n        vertical-align: top;\n    }\n\n    .dataframe thead th {\n        text-align: right;\n    }\n</style>\n<table border=\"1\" class=\"dataframe\">\n  <thead>\n    <tr style=\"text-align: right;\">\n      <th></th>\n      <th>metric_value</th>\n      <th>hist_metric_value</th>\n      <th>mean</th>\n      <th>hist_mean</th>\n      <th>is_cut</th>\n    </tr>\n  </thead>\n  <tbody>\n    <tr>\n      <th>80</th>\n      <td>3476.272690</td>\n      <td>9.269046e+08</td>\n      <td>594.864337</td>\n      <td>133074864.0</td>\n      <td>1.0</td>\n    </tr>\n    <tr>\n      <th>137</th>\n      <td>3522.453674</td>\n      <td>1.050390e+08</td>\n      <td>781.753825</td>\n      <td>15937765.0</td>\n      <td>1.0</td>\n    </tr>\n    <tr>\n      <th>236</th>\n      <td>3679.313353</td>\n      <td>7.827634e+08</td>\n      <td>773.613122</td>\n      <td>142556368.0</td>\n      <td>1.0</td>\n    </tr>\n    <tr>\n      <th>323</th>\n      <td>3016.214865</td>\n      <td>2.922631e+08</td>\n      <td>750.098955</td>\n      <td>42663136.0</td>\n      <td>1.0</td>\n    </tr>\n    <tr>\n      <th>472</th>\n      <td>2622.665550</td>\n      <td>3.009939e+08</td>\n      <td>765.693628</td>\n      <td>45974548.0</td>\n      <td>1.0</td>\n    </tr>\n    <tr>\n      <th>538</th>\n      <td>3126.071298</td>\n      <td>1.169361e+09</td>\n      <td>1162.465180</td>\n      <td>171844752.0</td>\n      <td>1.0</td>\n    </tr>\n    <tr>\n      <th>677</th>\n      <td>4504.607294</td>\n      <td>8.255324e+08</td>\n      <td>1194.087990</td>\n      <td>124572888.0</td>\n      <td>1.0</td>\n    </tr>\n    <tr>\n      <th>745</th>\n      <td>4437.530721</td>\n      <td>2.185859e+09</td>\n      <td>660.748464</td>\n      <td>312552128.0</td>\n      <td>1.0</td>\n    </tr>\n    <tr>\n      <th>885</th>\n      <td>3279.402293</td>\n      <td>1.128361e+09</td>\n      <td>477.464376</td>\n      <td>161279664.0</td>\n      <td>1.0</td>\n    </tr>\n    <tr>\n      <th>1080</th>\n      <td>2262.528938</td>\n      <td>1.438220e+08</td>\n      <td>448.881085</td>\n      <td>32646876.0</td>\n      <td>1.0</td>\n    </tr>\n    <tr>\n      <th>1187</th>\n      <td>11233.930079</td>\n      <td>8.248106e+08</td>\n      <td>1786.293759</td>\n      <td>118623768.0</td>\n      <td>1.0</td>\n    </tr>\n    <tr>\n      <th>1281</th>\n      <td>14712.636308</td>\n      <td>3.969136e+08</td>\n      <td>2261.980401</td>\n      <td>56989692.0</td>\n      <td>1.0</td>\n    </tr>\n    <tr>\n      <th>1399</th>\n      <td>6931.424884</td>\n      <td>8.835730e+08</td>\n      <td>1060.921733</td>\n      <td>126565848.0</td>\n      <td>1.0</td>\n    </tr>\n    <tr>\n      <th>1458</th>\n      <td>8934.270685</td>\n      <td>1.054737e+09</td>\n      <td>1313.532112</td>\n      <td>150908400.0</td>\n      <td>1.0</td>\n    </tr>\n    <tr>\n      <th>1543</th>\n      <td>10034.386714</td>\n      <td>1.578457e+09</td>\n      <td>1618.093530</td>\n      <td>226378160.0</td>\n      <td>1.0</td>\n    </tr>\n    <tr>\n      <th>1650</th>\n      <td>5022.168093</td>\n      <td>1.668605e+09</td>\n      <td>1004.686749</td>\n      <td>238741216.0</td>\n      <td>1.0</td>\n    </tr>\n    <tr>\n      <th>1709</th>\n      <td>1038.068630</td>\n      <td>8.505100e+08</td>\n      <td>152.095922</td>\n      <td>121538864.0</td>\n      <td>1.0</td>\n    </tr>\n    <tr>\n      <th>1757</th>\n      <td>3479.045494</td>\n      <td>1.868271e+08</td>\n      <td>618.367193</td>\n      <td>27019542.0</td>\n      <td>1.0</td>\n    </tr>\n    <tr>\n      <th>1808</th>\n      <td>3493.732078</td>\n      <td>1.207466e+09</td>\n      <td>964.034286</td>\n      <td>172898128.0</td>\n      <td>1.0</td>\n    </tr>\n    <tr>\n      <th>1863</th>\n      <td>6906.886857</td>\n      <td>2.330524e+09</td>\n      <td>1040.196840</td>\n      <td>334797984.0</td>\n      <td>1.0</td>\n    </tr>\n    <tr>\n      <th>1960</th>\n      <td>6886.497625</td>\n      <td>2.835548e+08</td>\n      <td>1690.770406</td>\n      <td>41606532.0</td>\n      <td>1.0</td>\n    </tr>\n    <tr>\n      <th>2227</th>\n      <td>8735.940832</td>\n      <td>2.843654e+09</td>\n      <td>1424.834907</td>\n      <td>409297504.0</td>\n      <td>1.0</td>\n    </tr>\n    <tr>\n      <th>2593</th>\n      <td>1544.407391</td>\n      <td>8.369112e+08</td>\n      <td>265.705096</td>\n      <td>120035336.0</td>\n      <td>1.0</td>\n    </tr>\n    <tr>\n      <th>2658</th>\n      <td>3339.915812</td>\n      <td>2.218067e+09</td>\n      <td>482.900141</td>\n      <td>316936384.0</td>\n      <td>1.0</td>\n    </tr>\n    <tr>\n      <th>2757</th>\n      <td>1668.034280</td>\n      <td>9.506284e+08</td>\n      <td>274.685413</td>\n      <td>136023392.0</td>\n      <td>1.0</td>\n    </tr>\n    <tr>\n      <th>2812</th>\n      <td>2242.102253</td>\n      <td>2.687218e+09</td>\n      <td>370.477709</td>\n      <td>384285504.0</td>\n      <td>1.0</td>\n    </tr>\n    <tr>\n      <th>2884</th>\n      <td>1201.125978</td>\n      <td>4.284266e+08</td>\n      <td>307.886692</td>\n      <td>62431908.0</td>\n      <td>1.0</td>\n    </tr>\n    <tr>\n      <th>2982</th>\n      <td>2037.485563</td>\n      <td>1.610421e+09</td>\n      <td>311.429640</td>\n      <td>230487072.0</td>\n      <td>1.0</td>\n    </tr>\n    <tr>\n      <th>3076</th>\n      <td>2830.626052</td>\n      <td>2.499529e+09</td>\n      <td>562.517122</td>\n      <td>360472352.0</td>\n      <td>1.0</td>\n    </tr>\n    <tr>\n      <th>3181</th>\n      <td>2811.695661</td>\n      <td>1.516848e+09</td>\n      <td>544.073987</td>\n      <td>217290864.0</td>\n      <td>1.0</td>\n    </tr>\n  </tbody>\n</table>\n</div>"
     },
     "execution_count": 65,
     "metadata": {},
     "output_type": "execute_result"
    }
   ],
   "source": [
    "train_features[train_features.is_cut == True]"
   ]
  },
  {
   "cell_type": "code",
   "execution_count": 66,
   "metadata": {},
   "outputs": [],
   "source": [
    "X_train = X_train.drop('is_cut', axis=1)"
   ]
  },
  {
   "cell_type": "code",
   "execution_count": 71,
   "metadata": {},
   "outputs": [
    {
     "data": {
      "text/plain": "      metric_value  hist_metric_value      mean     hist_mean\n0         0.000000              0.000  0.006213      9.708333\n1         0.001773              7.625  0.016620    631.218750\n2         0.001989              4.500  0.029862   1926.975000\n3         0.014878             17.000  0.029092   1742.416667\n4         0.049614           2503.375  0.059301   3746.562500\n...            ...                ...       ...           ...\n3387      1.613114         141297.250  1.819614  72146.164062\n3388      1.623444          21745.125  1.577113  70680.375000\n3389      1.531215           9029.875  1.514822  58404.050781\n3390      1.688390          78842.125  1.467588  48744.656250\n3391      1.102581          22906.375  1.614349  36539.042969\n\n[3392 rows x 4 columns]",
      "text/html": "<div>\n<style scoped>\n    .dataframe tbody tr th:only-of-type {\n        vertical-align: middle;\n    }\n\n    .dataframe tbody tr th {\n        vertical-align: top;\n    }\n\n    .dataframe thead th {\n        text-align: right;\n    }\n</style>\n<table border=\"1\" class=\"dataframe\">\n  <thead>\n    <tr style=\"text-align: right;\">\n      <th></th>\n      <th>metric_value</th>\n      <th>hist_metric_value</th>\n      <th>mean</th>\n      <th>hist_mean</th>\n    </tr>\n  </thead>\n  <tbody>\n    <tr>\n      <th>0</th>\n      <td>0.000000</td>\n      <td>0.000</td>\n      <td>0.006213</td>\n      <td>9.708333</td>\n    </tr>\n    <tr>\n      <th>1</th>\n      <td>0.001773</td>\n      <td>7.625</td>\n      <td>0.016620</td>\n      <td>631.218750</td>\n    </tr>\n    <tr>\n      <th>2</th>\n      <td>0.001989</td>\n      <td>4.500</td>\n      <td>0.029862</td>\n      <td>1926.975000</td>\n    </tr>\n    <tr>\n      <th>3</th>\n      <td>0.014878</td>\n      <td>17.000</td>\n      <td>0.029092</td>\n      <td>1742.416667</td>\n    </tr>\n    <tr>\n      <th>4</th>\n      <td>0.049614</td>\n      <td>2503.375</td>\n      <td>0.059301</td>\n      <td>3746.562500</td>\n    </tr>\n    <tr>\n      <th>...</th>\n      <td>...</td>\n      <td>...</td>\n      <td>...</td>\n      <td>...</td>\n    </tr>\n    <tr>\n      <th>3387</th>\n      <td>1.613114</td>\n      <td>141297.250</td>\n      <td>1.819614</td>\n      <td>72146.164062</td>\n    </tr>\n    <tr>\n      <th>3388</th>\n      <td>1.623444</td>\n      <td>21745.125</td>\n      <td>1.577113</td>\n      <td>70680.375000</td>\n    </tr>\n    <tr>\n      <th>3389</th>\n      <td>1.531215</td>\n      <td>9029.875</td>\n      <td>1.514822</td>\n      <td>58404.050781</td>\n    </tr>\n    <tr>\n      <th>3390</th>\n      <td>1.688390</td>\n      <td>78842.125</td>\n      <td>1.467588</td>\n      <td>48744.656250</td>\n    </tr>\n    <tr>\n      <th>3391</th>\n      <td>1.102581</td>\n      <td>22906.375</td>\n      <td>1.614349</td>\n      <td>36539.042969</td>\n    </tr>\n  </tbody>\n</table>\n<p>3392 rows × 4 columns</p>\n</div>"
     },
     "execution_count": 71,
     "metadata": {},
     "output_type": "execute_result"
    }
   ],
   "source": [
    "X_train"
   ]
  },
  {
   "cell_type": "code",
   "execution_count": 40,
   "outputs": [
    {
     "data": {
      "text/plain": "array([  232,   282,   715,  1232,  1279,  1418,  1571,  1622,  1824,\n        1953,  2004,  2042,  2281,  2412,  2440,  2471,  2517,  2563,\n        2618,  2722,  2773,  2809,  3000,  3330,  3387,  3486,  3573,\n        3722,  3788,  3927,  3995,  4135,  4330,  4437,  4531,  4649,\n        4708,  4793,  4900,  4959,  5007,  5058,  5113,  5210,  5477,\n        5843,  5908,  6007,  6062,  6134,  6232,  6326,  6431,  6647,\n        7670,  7853,  8162,  8355,  8430,  8504,  8532,  8813,  9134,\n        9193,  9350,  9392,  9670, 10108, 10354, 10576, 11099, 12448,\n       12474, 12517, 12577, 12619, 12659, 12703, 12731, 12794, 12833,\n       12882, 12914, 12955, 12986, 13043, 13077, 13122, 13141, 13161,\n       13184, 13253, 13279, 13328, 13360, 13396, 13440, 13475, 13493,\n       13513, 13534, 13545, 13554, 13567, 13609, 13678, 13694, 13751,\n       13784, 13804, 13819, 13837, 13851, 13880, 13908, 13926, 13948,\n       13968, 13990, 14007, 14032, 14046, 14067, 14089, 14100, 14119,\n       14138, 14166, 14193, 14221, 14254, 14274, 14300, 14322, 14356,\n       14374, 14381, 14405, 14433, 14482, 14495, 14506, 14545, 14587,\n       14628, 14653, 14675, 14707, 14742, 14765, 14792, 14813, 14847,\n       14859, 14873, 14886, 14898, 14918, 14948, 14968, 15016, 15055,\n       15090, 15155, 15174, 15187, 15203, 15216, 15258, 15295, 15324,\n       15440, 15520, 15743, 15902, 16125, 16200, 16265, 16410, 16490,\n       16624, 16681, 16731, 16780, 16868, 16982, 17017, 17061, 17104,\n       17171, 17328, 17375, 17438, 17478, 17566, 17757, 19031, 19130,\n       19202, 19357, 19440, 19729, 19814, 19908, 19987, 20117, 20147,\n       20176, 20226, 20300, 20350, 20465, 20575, 20620, 20720, 20785,\n       20843, 20879, 20902, 20953, 21012, 21067, 21156, 21210, 21240,\n       21266, 21310, 21336, 21354, 21380, 21395, 21425, 21471, 21502,\n       21589, 21640, 21692, 21738, 25204, 25312, 25388, 25441, 25495,\n       25583, 25652, 25707, 25865, 25954, 25993, 26043, 26125, 26159,\n       26218, 26259, 26294, 26322, 26375, 26412, 26451, 26586, 26643,\n       26735, 26783, 26847, 26895, 26930, 26971, 27038, 27078, 27102,\n       27133, 27180, 27201, 27251, 27299, 27340, 27367, 27395, 27423,\n       27461, 27495, 27546, 27568, 27618, 27644, 27676, 27772, 27801,\n       27879, 27917, 27941, 27976, 28028, 28086, 28121, 28159, 28249,\n       28310, 28342, 28376], dtype=int64)"
     },
     "execution_count": 40,
     "metadata": {},
     "output_type": "execute_result"
    }
   ],
   "source": [
    "np.where(y_train > 0)[0]"
   ],
   "metadata": {
    "collapsed": false
   }
  },
  {
   "cell_type": "code",
   "execution_count": 14,
   "metadata": {},
   "outputs": [
    {
     "data": {
      "text/plain": "pandas.core.series.Series"
     },
     "execution_count": 14,
     "metadata": {},
     "output_type": "execute_result"
    }
   ],
   "source": [
    "type(X_train['metric_value'])"
   ]
  },
  {
   "cell_type": "code",
   "execution_count": 10,
   "metadata": {},
   "outputs": [
    {
     "data": {
      "text/plain": "SVC(C=1, class_weight='balanced')",
      "text/html": "<style>#sk-container-id-1 {color: black;background-color: white;}#sk-container-id-1 pre{padding: 0;}#sk-container-id-1 div.sk-toggleable {background-color: white;}#sk-container-id-1 label.sk-toggleable__label {cursor: pointer;display: block;width: 100%;margin-bottom: 0;padding: 0.3em;box-sizing: border-box;text-align: center;}#sk-container-id-1 label.sk-toggleable__label-arrow:before {content: \"▸\";float: left;margin-right: 0.25em;color: #696969;}#sk-container-id-1 label.sk-toggleable__label-arrow:hover:before {color: black;}#sk-container-id-1 div.sk-estimator:hover label.sk-toggleable__label-arrow:before {color: black;}#sk-container-id-1 div.sk-toggleable__content {max-height: 0;max-width: 0;overflow: hidden;text-align: left;background-color: #f0f8ff;}#sk-container-id-1 div.sk-toggleable__content pre {margin: 0.2em;color: black;border-radius: 0.25em;background-color: #f0f8ff;}#sk-container-id-1 input.sk-toggleable__control:checked~div.sk-toggleable__content {max-height: 200px;max-width: 100%;overflow: auto;}#sk-container-id-1 input.sk-toggleable__control:checked~label.sk-toggleable__label-arrow:before {content: \"▾\";}#sk-container-id-1 div.sk-estimator input.sk-toggleable__control:checked~label.sk-toggleable__label {background-color: #d4ebff;}#sk-container-id-1 div.sk-label input.sk-toggleable__control:checked~label.sk-toggleable__label {background-color: #d4ebff;}#sk-container-id-1 input.sk-hidden--visually {border: 0;clip: rect(1px 1px 1px 1px);clip: rect(1px, 1px, 1px, 1px);height: 1px;margin: -1px;overflow: hidden;padding: 0;position: absolute;width: 1px;}#sk-container-id-1 div.sk-estimator {font-family: monospace;background-color: #f0f8ff;border: 1px dotted black;border-radius: 0.25em;box-sizing: border-box;margin-bottom: 0.5em;}#sk-container-id-1 div.sk-estimator:hover {background-color: #d4ebff;}#sk-container-id-1 div.sk-parallel-item::after {content: \"\";width: 100%;border-bottom: 1px solid gray;flex-grow: 1;}#sk-container-id-1 div.sk-label:hover label.sk-toggleable__label {background-color: #d4ebff;}#sk-container-id-1 div.sk-serial::before {content: \"\";position: absolute;border-left: 1px solid gray;box-sizing: border-box;top: 0;bottom: 0;left: 50%;z-index: 0;}#sk-container-id-1 div.sk-serial {display: flex;flex-direction: column;align-items: center;background-color: white;padding-right: 0.2em;padding-left: 0.2em;position: relative;}#sk-container-id-1 div.sk-item {position: relative;z-index: 1;}#sk-container-id-1 div.sk-parallel {display: flex;align-items: stretch;justify-content: center;background-color: white;position: relative;}#sk-container-id-1 div.sk-item::before, #sk-container-id-1 div.sk-parallel-item::before {content: \"\";position: absolute;border-left: 1px solid gray;box-sizing: border-box;top: 0;bottom: 0;left: 50%;z-index: -1;}#sk-container-id-1 div.sk-parallel-item {display: flex;flex-direction: column;z-index: 1;position: relative;background-color: white;}#sk-container-id-1 div.sk-parallel-item:first-child::after {align-self: flex-end;width: 50%;}#sk-container-id-1 div.sk-parallel-item:last-child::after {align-self: flex-start;width: 50%;}#sk-container-id-1 div.sk-parallel-item:only-child::after {width: 0;}#sk-container-id-1 div.sk-dashed-wrapped {border: 1px dashed gray;margin: 0 0.4em 0.5em 0.4em;box-sizing: border-box;padding-bottom: 0.4em;background-color: white;}#sk-container-id-1 div.sk-label label {font-family: monospace;font-weight: bold;display: inline-block;line-height: 1.2em;}#sk-container-id-1 div.sk-label-container {text-align: center;}#sk-container-id-1 div.sk-container {/* jupyter's `normalize.less` sets `[hidden] { display: none; }` but bootstrap.min.css set `[hidden] { display: none !important; }` so we also need the `!important` here to be able to override the default hidden behavior on the sphinx rendered scikit-learn.org. See: https://github.com/scikit-learn/scikit-learn/issues/21755 */display: inline-block !important;position: relative;}#sk-container-id-1 div.sk-text-repr-fallback {display: none;}</style><div id=\"sk-container-id-1\" class=\"sk-top-container\"><div class=\"sk-text-repr-fallback\"><pre>SVC(C=1, class_weight=&#x27;balanced&#x27;)</pre><b>In a Jupyter environment, please rerun this cell to show the HTML representation or trust the notebook. <br />On GitHub, the HTML representation is unable to render, please try loading this page with nbviewer.org.</b></div><div class=\"sk-container\" hidden><div class=\"sk-item\"><div class=\"sk-estimator sk-toggleable\"><input class=\"sk-toggleable__control sk-hidden--visually\" id=\"sk-estimator-id-1\" type=\"checkbox\" checked><label for=\"sk-estimator-id-1\" class=\"sk-toggleable__label sk-toggleable__label-arrow\">SVC</label><div class=\"sk-toggleable__content\"><pre>SVC(C=1, class_weight=&#x27;balanced&#x27;)</pre></div></div></div></div></div>"
     },
     "execution_count": 10,
     "metadata": {},
     "output_type": "execute_result"
    }
   ],
   "source": [
    "params = {\"kernel\": \"rbf\", \"C\": 1, 'class_weight' :'balanced'}\n",
    "model = SVC(**params)\n",
    "model.fit(X_train, y_train)"
   ]
  },
  {
   "cell_type": "code",
   "execution_count": 16,
   "metadata": {},
   "outputs": [],
   "source": [
    "clf = DecisionTreeClassifier(class_weight='balanced')"
   ]
  },
  {
   "cell_type": "code",
   "execution_count": 33,
   "metadata": {},
   "outputs": [],
   "source": [
    "from sklearn.linear_model import LogisticRegression"
   ]
  },
  {
   "cell_type": "code",
   "execution_count": 137,
   "metadata": {},
   "outputs": [],
   "source": [
    "clf = LogisticRegression(class_weight='balanced')"
   ]
  },
  {
   "cell_type": "code",
   "execution_count": 138,
   "metadata": {},
   "outputs": [
    {
     "name": "stderr",
     "output_type": "stream",
     "text": [
      "C:\\Users\\doodo\\AppData\\Local\\Programs\\Python\\Python310\\lib\\site-packages\\sklearn\\linear_model\\_logistic.py:458: ConvergenceWarning: lbfgs failed to converge (status=1):\n",
      "STOP: TOTAL NO. of ITERATIONS REACHED LIMIT.\n",
      "\n",
      "Increase the number of iterations (max_iter) or scale the data as shown in:\n",
      "    https://scikit-learn.org/stable/modules/preprocessing.html\n",
      "Please also refer to the documentation for alternative solver options:\n",
      "    https://scikit-learn.org/stable/modules/linear_model.html#logistic-regression\n",
      "  n_iter_i = _check_optimize_result(\n"
     ]
    },
    {
     "data": {
      "text/plain": "LogisticRegression(class_weight='balanced')",
      "text/html": "<style>#sk-container-id-20 {color: black;background-color: white;}#sk-container-id-20 pre{padding: 0;}#sk-container-id-20 div.sk-toggleable {background-color: white;}#sk-container-id-20 label.sk-toggleable__label {cursor: pointer;display: block;width: 100%;margin-bottom: 0;padding: 0.3em;box-sizing: border-box;text-align: center;}#sk-container-id-20 label.sk-toggleable__label-arrow:before {content: \"▸\";float: left;margin-right: 0.25em;color: #696969;}#sk-container-id-20 label.sk-toggleable__label-arrow:hover:before {color: black;}#sk-container-id-20 div.sk-estimator:hover label.sk-toggleable__label-arrow:before {color: black;}#sk-container-id-20 div.sk-toggleable__content {max-height: 0;max-width: 0;overflow: hidden;text-align: left;background-color: #f0f8ff;}#sk-container-id-20 div.sk-toggleable__content pre {margin: 0.2em;color: black;border-radius: 0.25em;background-color: #f0f8ff;}#sk-container-id-20 input.sk-toggleable__control:checked~div.sk-toggleable__content {max-height: 200px;max-width: 100%;overflow: auto;}#sk-container-id-20 input.sk-toggleable__control:checked~label.sk-toggleable__label-arrow:before {content: \"▾\";}#sk-container-id-20 div.sk-estimator input.sk-toggleable__control:checked~label.sk-toggleable__label {background-color: #d4ebff;}#sk-container-id-20 div.sk-label input.sk-toggleable__control:checked~label.sk-toggleable__label {background-color: #d4ebff;}#sk-container-id-20 input.sk-hidden--visually {border: 0;clip: rect(1px 1px 1px 1px);clip: rect(1px, 1px, 1px, 1px);height: 1px;margin: -1px;overflow: hidden;padding: 0;position: absolute;width: 1px;}#sk-container-id-20 div.sk-estimator {font-family: monospace;background-color: #f0f8ff;border: 1px dotted black;border-radius: 0.25em;box-sizing: border-box;margin-bottom: 0.5em;}#sk-container-id-20 div.sk-estimator:hover {background-color: #d4ebff;}#sk-container-id-20 div.sk-parallel-item::after {content: \"\";width: 100%;border-bottom: 1px solid gray;flex-grow: 1;}#sk-container-id-20 div.sk-label:hover label.sk-toggleable__label {background-color: #d4ebff;}#sk-container-id-20 div.sk-serial::before {content: \"\";position: absolute;border-left: 1px solid gray;box-sizing: border-box;top: 0;bottom: 0;left: 50%;z-index: 0;}#sk-container-id-20 div.sk-serial {display: flex;flex-direction: column;align-items: center;background-color: white;padding-right: 0.2em;padding-left: 0.2em;position: relative;}#sk-container-id-20 div.sk-item {position: relative;z-index: 1;}#sk-container-id-20 div.sk-parallel {display: flex;align-items: stretch;justify-content: center;background-color: white;position: relative;}#sk-container-id-20 div.sk-item::before, #sk-container-id-20 div.sk-parallel-item::before {content: \"\";position: absolute;border-left: 1px solid gray;box-sizing: border-box;top: 0;bottom: 0;left: 50%;z-index: -1;}#sk-container-id-20 div.sk-parallel-item {display: flex;flex-direction: column;z-index: 1;position: relative;background-color: white;}#sk-container-id-20 div.sk-parallel-item:first-child::after {align-self: flex-end;width: 50%;}#sk-container-id-20 div.sk-parallel-item:last-child::after {align-self: flex-start;width: 50%;}#sk-container-id-20 div.sk-parallel-item:only-child::after {width: 0;}#sk-container-id-20 div.sk-dashed-wrapped {border: 1px dashed gray;margin: 0 0.4em 0.5em 0.4em;box-sizing: border-box;padding-bottom: 0.4em;background-color: white;}#sk-container-id-20 div.sk-label label {font-family: monospace;font-weight: bold;display: inline-block;line-height: 1.2em;}#sk-container-id-20 div.sk-label-container {text-align: center;}#sk-container-id-20 div.sk-container {/* jupyter's `normalize.less` sets `[hidden] { display: none; }` but bootstrap.min.css set `[hidden] { display: none !important; }` so we also need the `!important` here to be able to override the default hidden behavior on the sphinx rendered scikit-learn.org. See: https://github.com/scikit-learn/scikit-learn/issues/21755 */display: inline-block !important;position: relative;}#sk-container-id-20 div.sk-text-repr-fallback {display: none;}</style><div id=\"sk-container-id-20\" class=\"sk-top-container\"><div class=\"sk-text-repr-fallback\"><pre>LogisticRegression(class_weight=&#x27;balanced&#x27;)</pre><b>In a Jupyter environment, please rerun this cell to show the HTML representation or trust the notebook. <br />On GitHub, the HTML representation is unable to render, please try loading this page with nbviewer.org.</b></div><div class=\"sk-container\" hidden><div class=\"sk-item\"><div class=\"sk-estimator sk-toggleable\"><input class=\"sk-toggleable__control sk-hidden--visually\" id=\"sk-estimator-id-20\" type=\"checkbox\" checked><label for=\"sk-estimator-id-20\" class=\"sk-toggleable__label sk-toggleable__label-arrow\">LogisticRegression</label><div class=\"sk-toggleable__content\"><pre>LogisticRegression(class_weight=&#x27;balanced&#x27;)</pre></div></div></div></div></div>"
     },
     "execution_count": 138,
     "metadata": {},
     "output_type": "execute_result"
    }
   ],
   "source": [
    "clf.fit(X_train, y_train)"
   ]
  },
  {
   "cell_type": "code",
   "execution_count": 58,
   "metadata": {},
   "outputs": [],
   "source": [
    "train_Y = clf.predict(X_train)"
   ]
  },
  {
   "cell_type": "code",
   "execution_count": 19,
   "metadata": {},
   "outputs": [
    {
     "ename": "NameError",
     "evalue": "name 'train_Y' is not defined",
     "output_type": "error",
     "traceback": [
      "\u001B[1;31m---------------------------------------------------------------------------\u001B[0m",
      "\u001B[1;31mNameError\u001B[0m                                 Traceback (most recent call last)",
      "Cell \u001B[1;32mIn[19], line 3\u001B[0m\n\u001B[0;32m      1\u001B[0m \u001B[38;5;28;01mfrom\u001B[39;00m \u001B[38;5;21;01msklearn\u001B[39;00m\u001B[38;5;21;01m.\u001B[39;00m\u001B[38;5;21;01mmetrics\u001B[39;00m \u001B[38;5;28;01mimport\u001B[39;00m accuracy_score\n\u001B[1;32m----> 3\u001B[0m \u001B[38;5;28mprint\u001B[39m(\u001B[38;5;124m'\u001B[39m\u001B[38;5;124mМетрика на тренировочной выборке\u001B[39m\u001B[38;5;124m'\u001B[39m, accuracy_score(y_train, \u001B[43mtrain_Y\u001B[49m))\n",
      "\u001B[1;31mNameError\u001B[0m: name 'train_Y' is not defined"
     ]
    }
   ],
   "source": [
    "from sklearn.metrics import accuracy_score\n",
    "\n",
    "print('Метрика на тренировочной выборке', accuracy_score(y_train, train_Y))"
   ]
  },
  {
   "cell_type": "code",
   "execution_count": 11,
   "metadata": {},
   "outputs": [],
   "source": [
    "pickle.dump(model, open(\"model.pkl\", \"wb\"))"
   ]
  },
  {
   "cell_type": "code",
   "execution_count": 139,
   "metadata": {},
   "outputs": [],
   "source": [
    "pickle.dump(clf, open(\"model.pkl\", \"wb\"))"
   ]
  },
  {
   "cell_type": "code",
   "execution_count": 128,
   "metadata": {},
   "outputs": [],
   "source": [
    "model = pickle.load(open(\"model.pkl\", 'rb'))\n",
    "predict_cuts = model.predict(X_train)"
   ]
  },
  {
   "cell_type": "code",
   "execution_count": 18,
   "metadata": {},
   "outputs": [],
   "source": [
    "video_info = load_json_from_file(os.path.join('train_dataset', 'info.json'))[7]\n",
    "\n",
    "frames = read_video(os.path.join('train_dataset', video_info['source']))\n",
    "video_len = video_info['len']\n",
    "true_scene_changes = load_json_from_file(os.path.join('train_dataset', video_info['scene_change']))\n",
    "\n",
    "# Составляем список сцен, которые не будут тестироваться\n",
    "not_use_frames = set()\n",
    "for type_scene_change in ['trash', 'fade', 'dissolve']:\n",
    "    for bad_scene_range in true_scene_changes.get(type_scene_change, []):\n",
    "        not_use_frames.update(list(range(bad_scene_range[0], bad_scene_range[1] + 1)))"
   ]
  },
  {
   "cell_type": "code",
   "execution_count": 62,
   "metadata": {},
   "outputs": [
    {
     "name": "stderr",
     "output_type": "stream",
     "text": [
      "C:\\Users\\doodo\\AppData\\Local\\Temp\\ipykernel_12164\\793930596.py:25: TqdmDeprecationWarning: This function will be removed in tqdm==5.0.0\n",
      "Please use `tqdm.notebook.tqdm` instead of `tqdm.tqdm_notebook`\n",
      "  for idx, frame in tqdm(enumerate(frames)):\n"
     ]
    },
    {
     "data": {
      "application/json": {
       "ascii": false,
       "bar_format": null,
       "colour": null,
       "elapsed": 0.004534244537353516,
       "initial": 0,
       "n": 0,
       "ncols": null,
       "nrows": null,
       "postfix": null,
       "prefix": "",
       "rate": null,
       "total": null,
       "unit": "it",
       "unit_divisor": 1000,
       "unit_scale": false
      },
      "application/vnd.jupyter.widget-view+json": {
       "model_id": "310798466f0347aea8ea6c2464375903",
       "version_major": 2,
       "version_minor": 0
      },
      "text/plain": [
       "0it [00:00, ?it/s]"
      ]
     },
     "metadata": {},
     "output_type": "display_data"
    }
   ],
   "source": [
    "X_test = pd.DataFrame(metric_generator(frames))"
   ]
  },
  {
   "cell_type": "code",
   "execution_count": 63,
   "metadata": {},
   "outputs": [
    {
     "data": {
      "text/html": [
       "<div>\n",
       "<style scoped>\n",
       "    .dataframe tbody tr th:only-of-type {\n",
       "        vertical-align: middle;\n",
       "    }\n",
       "\n",
       "    .dataframe tbody tr th {\n",
       "        vertical-align: top;\n",
       "    }\n",
       "\n",
       "    .dataframe thead th {\n",
       "        text-align: right;\n",
       "    }\n",
       "</style>\n",
       "<table border=\"1\" class=\"dataframe\">\n",
       "  <thead>\n",
       "    <tr style=\"text-align: right;\">\n",
       "      <th></th>\n",
       "      <th>metric_value</th>\n",
       "      <th>hist_metric_value</th>\n",
       "    </tr>\n",
       "  </thead>\n",
       "  <tbody>\n",
       "    <tr>\n",
       "      <th>0</th>\n",
       "      <td>0.000000</td>\n",
       "      <td>0.000</td>\n",
       "    </tr>\n",
       "    <tr>\n",
       "      <th>1</th>\n",
       "      <td>171.019313</td>\n",
       "      <td>1026380.125</td>\n",
       "    </tr>\n",
       "    <tr>\n",
       "      <th>2</th>\n",
       "      <td>184.306526</td>\n",
       "      <td>1249327.750</td>\n",
       "    </tr>\n",
       "    <tr>\n",
       "      <th>3</th>\n",
       "      <td>194.518409</td>\n",
       "      <td>1442278.500</td>\n",
       "    </tr>\n",
       "    <tr>\n",
       "      <th>4</th>\n",
       "      <td>200.839658</td>\n",
       "      <td>1192360.250</td>\n",
       "    </tr>\n",
       "    <tr>\n",
       "      <th>...</th>\n",
       "      <td>...</td>\n",
       "      <td>...</td>\n",
       "    </tr>\n",
       "    <tr>\n",
       "      <th>2899</th>\n",
       "      <td>68.034040</td>\n",
       "      <td>99775.500</td>\n",
       "    </tr>\n",
       "    <tr>\n",
       "      <th>2900</th>\n",
       "      <td>69.164378</td>\n",
       "      <td>135233.125</td>\n",
       "    </tr>\n",
       "    <tr>\n",
       "      <th>2901</th>\n",
       "      <td>72.228958</td>\n",
       "      <td>109422.875</td>\n",
       "    </tr>\n",
       "    <tr>\n",
       "      <th>2902</th>\n",
       "      <td>81.523982</td>\n",
       "      <td>84343.875</td>\n",
       "    </tr>\n",
       "    <tr>\n",
       "      <th>2903</th>\n",
       "      <td>75.513251</td>\n",
       "      <td>94737.000</td>\n",
       "    </tr>\n",
       "  </tbody>\n",
       "</table>\n",
       "<p>2904 rows × 2 columns</p>\n",
       "</div>"
      ],
      "text/plain": [
       "      metric_value  hist_metric_value\n",
       "0         0.000000              0.000\n",
       "1       171.019313        1026380.125\n",
       "2       184.306526        1249327.750\n",
       "3       194.518409        1442278.500\n",
       "4       200.839658        1192360.250\n",
       "...            ...                ...\n",
       "2899     68.034040          99775.500\n",
       "2900     69.164378         135233.125\n",
       "2901     72.228958         109422.875\n",
       "2902     81.523982          84343.875\n",
       "2903     75.513251          94737.000\n",
       "\n",
       "[2904 rows x 2 columns]"
      ]
     },
     "execution_count": 63,
     "metadata": {},
     "output_type": "execute_result"
    }
   ],
   "source": [
    "X_test"
   ]
  },
  {
   "cell_type": "code",
   "execution_count": 23,
   "outputs": [
    {
     "ename": "NameError",
     "evalue": "name 'X_test' is not defined",
     "output_type": "error",
     "traceback": [
      "\u001B[1;31m---------------------------------------------------------------------------\u001B[0m",
      "\u001B[1;31mNameError\u001B[0m                                 Traceback (most recent call last)",
      "Cell \u001B[1;32mIn[23], line 1\u001B[0m\n\u001B[1;32m----> 1\u001B[0m predict_cuts \u001B[38;5;241m=\u001B[39m model\u001B[38;5;241m.\u001B[39mpredict(\u001B[43mX_test\u001B[49m)\n",
      "\u001B[1;31mNameError\u001B[0m: name 'X_test' is not defined"
     ]
    }
   ],
   "source": [
    "predict_cuts = model.predict(X_test)"
   ],
   "metadata": {
    "collapsed": false
   }
  },
  {
   "cell_type": "code",
   "execution_count": 22,
   "outputs": [
    {
     "ename": "NameError",
     "evalue": "name 'predict_cuts' is not defined",
     "output_type": "error",
     "traceback": [
      "\u001B[1;31m---------------------------------------------------------------------------\u001B[0m",
      "\u001B[1;31mNameError\u001B[0m                                 Traceback (most recent call last)",
      "Cell \u001B[1;32mIn[22], line 1\u001B[0m\n\u001B[1;32m----> 1\u001B[0m \u001B[38;5;28mtype\u001B[39m(\u001B[43mpredict_cuts\u001B[49m)\n",
      "\u001B[1;31mNameError\u001B[0m: name 'predict_cuts' is not defined"
     ]
    }
   ],
   "source": [
    "type(predict_cuts)"
   ],
   "metadata": {
    "collapsed": false
   }
  },
  {
   "cell_type": "code",
   "execution_count": 12,
   "metadata": {},
   "outputs": [],
   "source": [
    "def baseline_scene_change_detection_ml(frames):\n",
    "    # подготавливаем данные для видео\n",
    "\n",
    "\n",
    "    X_test = pd.DataFrame(metric_generator(frames))\n",
    "\n",
    "    # загружаем модель и делаем предсказания\n",
    "    model = pickle.load(open(\"model.pkl\", 'rb'))\n",
    "    predict_cuts = model.predict(X_test)\n",
    "    return np.where(predict_cuts > 0)[0]"
   ]
  },
  {
   "cell_type": "code",
   "execution_count": 13,
   "metadata": {},
   "outputs": [],
   "source": [
    "def run_scene_change_detector_ml_one_video(scene_change_detector, dataset_path, video_num):\n",
    "    video_info = load_json_from_file(os.path.join(dataset_path, 'info.json'))[video_num]\n",
    "\n",
    "    # Загружаем видео, его длину и смены сцен\n",
    "    frames = read_video(os.path.join(dataset_path, video_info['source']))\n",
    "    video_len = video_info['len']\n",
    "    true_scene_changes = load_json_from_file(os.path.join(dataset_path, video_info['scene_change']))\n",
    "\n",
    "    # Составляем список сцен, которые не будут тестироваться\n",
    "    not_use_frames = set()\n",
    "    for type_scene_change in ['trash', 'fade', 'dissolve']:\n",
    "        for bad_scene_range in true_scene_changes.get(type_scene_change, []):\n",
    "            not_use_frames.update(list(range(bad_scene_range[0], bad_scene_range[1] + 1)))\n",
    "\n",
    "    predicted_scene_changes = scene_change_detector(frames)\n",
    "\n",
    "    return  f1_score(\n",
    "        true_scene_changes['cut'],\n",
    "        predicted_scene_changes,\n",
    "        video_len,\n",
    "        not_use_frames\n",
    "    )\n"
   ]
  },
  {
   "cell_type": "code",
   "execution_count": 23,
   "metadata": {},
   "outputs": [
    {
     "name": "stderr",
     "output_type": "stream",
     "text": [
      "C:\\Users\\doodo\\AppData\\Local\\Temp\\ipykernel_3008\\3174867180.py:25: TqdmDeprecationWarning: This function will be removed in tqdm==5.0.0\n",
      "Please use `tqdm.notebook.tqdm` instead of `tqdm.tqdm_notebook`\n",
      "  for idx, frame in tqdm(enumerate(frames), leave=False):\n"
     ]
    },
    {
     "data": {
      "text/plain": "0it [00:00, ?it/s]",
      "application/vnd.jupyter.widget-view+json": {
       "version_major": 2,
       "version_minor": 0,
       "model_id": "73caa36e17cc49dbb233f9c098f10c62"
      },
      "application/json": {
       "n": 0,
       "total": null,
       "elapsed": 0.0,
       "ncols": null,
       "nrows": null,
       "prefix": "",
       "ascii": false,
       "unit": "it",
       "unit_scale": false,
       "rate": null,
       "bar_format": null,
       "postfix": null,
       "unit_divisor": 1000,
       "initial": 0,
       "colour": null
      }
     },
     "metadata": {},
     "output_type": "display_data"
    },
    {
     "ename": "ValueError",
     "evalue": "The feature names should match those that were passed during fit.\nFeature names unseen at fit time:\n- hist_mean\n- mean\n",
     "output_type": "error",
     "traceback": [
      "\u001B[1;31m---------------------------------------------------------------------------\u001B[0m",
      "\u001B[1;31mValueError\u001B[0m                                Traceback (most recent call last)",
      "Cell \u001B[1;32mIn[23], line 2\u001B[0m\n\u001B[0;32m      1\u001B[0m video_num \u001B[38;5;241m=\u001B[39m \u001B[38;5;241m2\u001B[39m\n\u001B[1;32m----> 2\u001B[0m \u001B[43mrun_scene_change_detector_ml_one_video\u001B[49m\u001B[43m(\u001B[49m\u001B[43mbaseline_scene_change_detection_ml\u001B[49m\u001B[43m,\u001B[49m\u001B[43m \u001B[49m\u001B[38;5;124;43m'\u001B[39;49m\u001B[38;5;124;43mtrain_dataset\u001B[39;49m\u001B[38;5;124;43m'\u001B[39;49m\u001B[43m,\u001B[49m\u001B[43m \u001B[49m\u001B[43mvideo_num\u001B[49m\u001B[43m)\u001B[49m\n",
      "Cell \u001B[1;32mIn[22], line 15\u001B[0m, in \u001B[0;36mrun_scene_change_detector_ml_one_video\u001B[1;34m(scene_change_detector, dataset_path, video_num)\u001B[0m\n\u001B[0;32m     12\u001B[0m     \u001B[38;5;28;01mfor\u001B[39;00m bad_scene_range \u001B[38;5;129;01min\u001B[39;00m true_scene_changes\u001B[38;5;241m.\u001B[39mget(type_scene_change, []):\n\u001B[0;32m     13\u001B[0m         not_use_frames\u001B[38;5;241m.\u001B[39mupdate(\u001B[38;5;28mlist\u001B[39m(\u001B[38;5;28mrange\u001B[39m(bad_scene_range[\u001B[38;5;241m0\u001B[39m], bad_scene_range[\u001B[38;5;241m1\u001B[39m] \u001B[38;5;241m+\u001B[39m \u001B[38;5;241m1\u001B[39m)))\n\u001B[1;32m---> 15\u001B[0m predicted_scene_changes \u001B[38;5;241m=\u001B[39m \u001B[43mscene_change_detector\u001B[49m\u001B[43m(\u001B[49m\u001B[43mframes\u001B[49m\u001B[43m)\u001B[49m\n\u001B[0;32m     17\u001B[0m \u001B[38;5;28;01mreturn\u001B[39;00m  f1_score(\n\u001B[0;32m     18\u001B[0m     true_scene_changes[\u001B[38;5;124m'\u001B[39m\u001B[38;5;124mcut\u001B[39m\u001B[38;5;124m'\u001B[39m],\n\u001B[0;32m     19\u001B[0m     predicted_scene_changes,\n\u001B[0;32m     20\u001B[0m     video_len,\n\u001B[0;32m     21\u001B[0m     not_use_frames\n\u001B[0;32m     22\u001B[0m )\n",
      "Cell \u001B[1;32mIn[21], line 7\u001B[0m, in \u001B[0;36mbaseline_scene_change_detection_ml\u001B[1;34m(frames)\u001B[0m\n\u001B[0;32m      5\u001B[0m \u001B[38;5;66;03m# загружаем модель и делаем предсказания\u001B[39;00m\n\u001B[0;32m      6\u001B[0m model \u001B[38;5;241m=\u001B[39m pickle\u001B[38;5;241m.\u001B[39mload(\u001B[38;5;28mopen\u001B[39m(\u001B[38;5;124m\"\u001B[39m\u001B[38;5;124mmodel.pkl\u001B[39m\u001B[38;5;124m\"\u001B[39m, \u001B[38;5;124m'\u001B[39m\u001B[38;5;124mrb\u001B[39m\u001B[38;5;124m'\u001B[39m))\n\u001B[1;32m----> 7\u001B[0m predict_cuts \u001B[38;5;241m=\u001B[39m \u001B[43mmodel\u001B[49m\u001B[38;5;241;43m.\u001B[39;49m\u001B[43mpredict\u001B[49m\u001B[43m(\u001B[49m\u001B[43mX_test\u001B[49m\u001B[38;5;241;43m.\u001B[39;49m\u001B[43mfillna\u001B[49m\u001B[43m(\u001B[49m\u001B[38;5;241;43m0\u001B[39;49m\u001B[43m)\u001B[49m\u001B[43m)\u001B[49m\n\u001B[0;32m      8\u001B[0m \u001B[38;5;28;01mreturn\u001B[39;00m np\u001B[38;5;241m.\u001B[39mwhere(predict_cuts \u001B[38;5;241m>\u001B[39m \u001B[38;5;241m0\u001B[39m)[\u001B[38;5;241m0\u001B[39m]\n",
      "File \u001B[1;32m~\\AppData\\Local\\Programs\\Python\\Python310\\lib\\site-packages\\sklearn\\svm\\_base.py:820\u001B[0m, in \u001B[0;36mBaseSVC.predict\u001B[1;34m(self, X)\u001B[0m\n\u001B[0;32m    818\u001B[0m     y \u001B[38;5;241m=\u001B[39m np\u001B[38;5;241m.\u001B[39margmax(\u001B[38;5;28mself\u001B[39m\u001B[38;5;241m.\u001B[39mdecision_function(X), axis\u001B[38;5;241m=\u001B[39m\u001B[38;5;241m1\u001B[39m)\n\u001B[0;32m    819\u001B[0m \u001B[38;5;28;01melse\u001B[39;00m:\n\u001B[1;32m--> 820\u001B[0m     y \u001B[38;5;241m=\u001B[39m \u001B[38;5;28;43msuper\u001B[39;49m\u001B[43m(\u001B[49m\u001B[43m)\u001B[49m\u001B[38;5;241;43m.\u001B[39;49m\u001B[43mpredict\u001B[49m\u001B[43m(\u001B[49m\u001B[43mX\u001B[49m\u001B[43m)\u001B[49m\n\u001B[0;32m    821\u001B[0m \u001B[38;5;28;01mreturn\u001B[39;00m \u001B[38;5;28mself\u001B[39m\u001B[38;5;241m.\u001B[39mclasses_\u001B[38;5;241m.\u001B[39mtake(np\u001B[38;5;241m.\u001B[39masarray(y, dtype\u001B[38;5;241m=\u001B[39mnp\u001B[38;5;241m.\u001B[39mintp))\n",
      "File \u001B[1;32m~\\AppData\\Local\\Programs\\Python\\Python310\\lib\\site-packages\\sklearn\\svm\\_base.py:433\u001B[0m, in \u001B[0;36mBaseLibSVM.predict\u001B[1;34m(self, X)\u001B[0m\n\u001B[0;32m    417\u001B[0m \u001B[38;5;28;01mdef\u001B[39;00m \u001B[38;5;21mpredict\u001B[39m(\u001B[38;5;28mself\u001B[39m, X):\n\u001B[0;32m    418\u001B[0m \u001B[38;5;250m    \u001B[39m\u001B[38;5;124;03m\"\"\"Perform regression on samples in X.\u001B[39;00m\n\u001B[0;32m    419\u001B[0m \n\u001B[0;32m    420\u001B[0m \u001B[38;5;124;03m    For an one-class model, +1 (inlier) or -1 (outlier) is returned.\u001B[39;00m\n\u001B[1;32m   (...)\u001B[0m\n\u001B[0;32m    431\u001B[0m \u001B[38;5;124;03m        The predicted values.\u001B[39;00m\n\u001B[0;32m    432\u001B[0m \u001B[38;5;124;03m    \"\"\"\u001B[39;00m\n\u001B[1;32m--> 433\u001B[0m     X \u001B[38;5;241m=\u001B[39m \u001B[38;5;28;43mself\u001B[39;49m\u001B[38;5;241;43m.\u001B[39;49m\u001B[43m_validate_for_predict\u001B[49m\u001B[43m(\u001B[49m\u001B[43mX\u001B[49m\u001B[43m)\u001B[49m\n\u001B[0;32m    434\u001B[0m     predict \u001B[38;5;241m=\u001B[39m \u001B[38;5;28mself\u001B[39m\u001B[38;5;241m.\u001B[39m_sparse_predict \u001B[38;5;28;01mif\u001B[39;00m \u001B[38;5;28mself\u001B[39m\u001B[38;5;241m.\u001B[39m_sparse \u001B[38;5;28;01melse\u001B[39;00m \u001B[38;5;28mself\u001B[39m\u001B[38;5;241m.\u001B[39m_dense_predict\n\u001B[0;32m    435\u001B[0m     \u001B[38;5;28;01mreturn\u001B[39;00m predict(X)\n",
      "File \u001B[1;32m~\\AppData\\Local\\Programs\\Python\\Python310\\lib\\site-packages\\sklearn\\svm\\_base.py:613\u001B[0m, in \u001B[0;36mBaseLibSVM._validate_for_predict\u001B[1;34m(self, X)\u001B[0m\n\u001B[0;32m    610\u001B[0m check_is_fitted(\u001B[38;5;28mself\u001B[39m)\n\u001B[0;32m    612\u001B[0m \u001B[38;5;28;01mif\u001B[39;00m \u001B[38;5;129;01mnot\u001B[39;00m callable(\u001B[38;5;28mself\u001B[39m\u001B[38;5;241m.\u001B[39mkernel):\n\u001B[1;32m--> 613\u001B[0m     X \u001B[38;5;241m=\u001B[39m \u001B[38;5;28;43mself\u001B[39;49m\u001B[38;5;241;43m.\u001B[39;49m\u001B[43m_validate_data\u001B[49m\u001B[43m(\u001B[49m\n\u001B[0;32m    614\u001B[0m \u001B[43m        \u001B[49m\u001B[43mX\u001B[49m\u001B[43m,\u001B[49m\n\u001B[0;32m    615\u001B[0m \u001B[43m        \u001B[49m\u001B[43maccept_sparse\u001B[49m\u001B[38;5;241;43m=\u001B[39;49m\u001B[38;5;124;43m\"\u001B[39;49m\u001B[38;5;124;43mcsr\u001B[39;49m\u001B[38;5;124;43m\"\u001B[39;49m\u001B[43m,\u001B[49m\n\u001B[0;32m    616\u001B[0m \u001B[43m        \u001B[49m\u001B[43mdtype\u001B[49m\u001B[38;5;241;43m=\u001B[39;49m\u001B[43mnp\u001B[49m\u001B[38;5;241;43m.\u001B[39;49m\u001B[43mfloat64\u001B[49m\u001B[43m,\u001B[49m\n\u001B[0;32m    617\u001B[0m \u001B[43m        \u001B[49m\u001B[43morder\u001B[49m\u001B[38;5;241;43m=\u001B[39;49m\u001B[38;5;124;43m\"\u001B[39;49m\u001B[38;5;124;43mC\u001B[39;49m\u001B[38;5;124;43m\"\u001B[39;49m\u001B[43m,\u001B[49m\n\u001B[0;32m    618\u001B[0m \u001B[43m        \u001B[49m\u001B[43maccept_large_sparse\u001B[49m\u001B[38;5;241;43m=\u001B[39;49m\u001B[38;5;28;43;01mFalse\u001B[39;49;00m\u001B[43m,\u001B[49m\n\u001B[0;32m    619\u001B[0m \u001B[43m        \u001B[49m\u001B[43mreset\u001B[49m\u001B[38;5;241;43m=\u001B[39;49m\u001B[38;5;28;43;01mFalse\u001B[39;49;00m\u001B[43m,\u001B[49m\n\u001B[0;32m    620\u001B[0m \u001B[43m    \u001B[49m\u001B[43m)\u001B[49m\n\u001B[0;32m    622\u001B[0m \u001B[38;5;28;01mif\u001B[39;00m \u001B[38;5;28mself\u001B[39m\u001B[38;5;241m.\u001B[39m_sparse \u001B[38;5;129;01mand\u001B[39;00m \u001B[38;5;129;01mnot\u001B[39;00m sp\u001B[38;5;241m.\u001B[39misspmatrix(X):\n\u001B[0;32m    623\u001B[0m     X \u001B[38;5;241m=\u001B[39m sp\u001B[38;5;241m.\u001B[39mcsr_matrix(X)\n",
      "File \u001B[1;32m~\\AppData\\Local\\Programs\\Python\\Python310\\lib\\site-packages\\sklearn\\base.py:529\u001B[0m, in \u001B[0;36mBaseEstimator._validate_data\u001B[1;34m(self, X, y, reset, validate_separately, **check_params)\u001B[0m\n\u001B[0;32m    464\u001B[0m \u001B[38;5;28;01mdef\u001B[39;00m \u001B[38;5;21m_validate_data\u001B[39m(\n\u001B[0;32m    465\u001B[0m     \u001B[38;5;28mself\u001B[39m,\n\u001B[0;32m    466\u001B[0m     X\u001B[38;5;241m=\u001B[39m\u001B[38;5;124m\"\u001B[39m\u001B[38;5;124mno_validation\u001B[39m\u001B[38;5;124m\"\u001B[39m,\n\u001B[1;32m   (...)\u001B[0m\n\u001B[0;32m    470\u001B[0m     \u001B[38;5;241m*\u001B[39m\u001B[38;5;241m*\u001B[39mcheck_params,\n\u001B[0;32m    471\u001B[0m ):\n\u001B[0;32m    472\u001B[0m \u001B[38;5;250m    \u001B[39m\u001B[38;5;124;03m\"\"\"Validate input data and set or check the `n_features_in_` attribute.\u001B[39;00m\n\u001B[0;32m    473\u001B[0m \n\u001B[0;32m    474\u001B[0m \u001B[38;5;124;03m    Parameters\u001B[39;00m\n\u001B[1;32m   (...)\u001B[0m\n\u001B[0;32m    527\u001B[0m \u001B[38;5;124;03m        validated.\u001B[39;00m\n\u001B[0;32m    528\u001B[0m \u001B[38;5;124;03m    \"\"\"\u001B[39;00m\n\u001B[1;32m--> 529\u001B[0m     \u001B[38;5;28;43mself\u001B[39;49m\u001B[38;5;241;43m.\u001B[39;49m\u001B[43m_check_feature_names\u001B[49m\u001B[43m(\u001B[49m\u001B[43mX\u001B[49m\u001B[43m,\u001B[49m\u001B[43m \u001B[49m\u001B[43mreset\u001B[49m\u001B[38;5;241;43m=\u001B[39;49m\u001B[43mreset\u001B[49m\u001B[43m)\u001B[49m\n\u001B[0;32m    531\u001B[0m     \u001B[38;5;28;01mif\u001B[39;00m y \u001B[38;5;129;01mis\u001B[39;00m \u001B[38;5;28;01mNone\u001B[39;00m \u001B[38;5;129;01mand\u001B[39;00m \u001B[38;5;28mself\u001B[39m\u001B[38;5;241m.\u001B[39m_get_tags()[\u001B[38;5;124m\"\u001B[39m\u001B[38;5;124mrequires_y\u001B[39m\u001B[38;5;124m\"\u001B[39m]:\n\u001B[0;32m    532\u001B[0m         \u001B[38;5;28;01mraise\u001B[39;00m \u001B[38;5;167;01mValueError\u001B[39;00m(\n\u001B[0;32m    533\u001B[0m             \u001B[38;5;124mf\u001B[39m\u001B[38;5;124m\"\u001B[39m\u001B[38;5;124mThis \u001B[39m\u001B[38;5;132;01m{\u001B[39;00m\u001B[38;5;28mself\u001B[39m\u001B[38;5;241m.\u001B[39m\u001B[38;5;18m__class__\u001B[39m\u001B[38;5;241m.\u001B[39m\u001B[38;5;18m__name__\u001B[39m\u001B[38;5;132;01m}\u001B[39;00m\u001B[38;5;124m estimator \u001B[39m\u001B[38;5;124m\"\u001B[39m\n\u001B[0;32m    534\u001B[0m             \u001B[38;5;124m\"\u001B[39m\u001B[38;5;124mrequires y to be passed, but the target y is None.\u001B[39m\u001B[38;5;124m\"\u001B[39m\n\u001B[0;32m    535\u001B[0m         )\n",
      "File \u001B[1;32m~\\AppData\\Local\\Programs\\Python\\Python310\\lib\\site-packages\\sklearn\\base.py:462\u001B[0m, in \u001B[0;36mBaseEstimator._check_feature_names\u001B[1;34m(self, X, reset)\u001B[0m\n\u001B[0;32m    457\u001B[0m \u001B[38;5;28;01mif\u001B[39;00m \u001B[38;5;129;01mnot\u001B[39;00m missing_names \u001B[38;5;129;01mand\u001B[39;00m \u001B[38;5;129;01mnot\u001B[39;00m unexpected_names:\n\u001B[0;32m    458\u001B[0m     message \u001B[38;5;241m+\u001B[39m\u001B[38;5;241m=\u001B[39m (\n\u001B[0;32m    459\u001B[0m         \u001B[38;5;124m\"\u001B[39m\u001B[38;5;124mFeature names must be in the same order as they were in fit.\u001B[39m\u001B[38;5;130;01m\\n\u001B[39;00m\u001B[38;5;124m\"\u001B[39m\n\u001B[0;32m    460\u001B[0m     )\n\u001B[1;32m--> 462\u001B[0m \u001B[38;5;28;01mraise\u001B[39;00m \u001B[38;5;167;01mValueError\u001B[39;00m(message)\n",
      "\u001B[1;31mValueError\u001B[0m: The feature names should match those that were passed during fit.\nFeature names unseen at fit time:\n- hist_mean\n- mean\n"
     ]
    }
   ],
   "source": [
    "video_num = 2\n",
    "run_scene_change_detector_ml_one_video(baseline_scene_change_detection_ml, 'train_dataset', video_num)"
   ]
  },
  {
   "cell_type": "code",
   "execution_count": 14,
   "outputs": [],
   "source": [
    "def run_scene_change_detector_all_video(scene_change_detector, dataset_path):\n",
    "    video_dataset = load_json_from_file(os.path.join(dataset_path, 'info.json'))\n",
    "    param_log = {\n",
    "        '_mean_f1_score': []\n",
    "    }\n",
    "    for video_info in tqdm(video_dataset, leave=False):\n",
    "        # Загружаем видео, его длину и смены сцен\n",
    "        frames = read_video(os.path.join(dataset_path, video_info['source']))\n",
    "        video_len = video_info['len']\n",
    "        true_scene_changes = load_json_from_file(os.path.join(dataset_path, video_info['scene_change']))\n",
    "\n",
    "        # Составляем список сцен, которые не будут тестироваться\n",
    "        not_use_frames = set()\n",
    "        for type_scene_change in ['trash', 'fade', 'dissolve']:\n",
    "            for bad_scene_range in true_scene_changes.get(type_scene_change, []):\n",
    "                not_use_frames.update(list(range(bad_scene_range[0], bad_scene_range[1] + 1)))\n",
    "\n",
    "        predicted_scene_changes = scene_change_detector(frames)\n",
    "\n",
    "        param_log['f1_score_{}'.format(video_info['source'])] = f1_score(\n",
    "            true_scene_changes['cut'],\n",
    "            predicted_scene_changes,\n",
    "            video_len,\n",
    "            not_use_frames\n",
    "        )\n",
    "        video_tp, video_fp, video_tn, video_fn = calculate_matrix(\n",
    "            true_scene_changes['cut'],\n",
    "            predicted_scene_changes,\n",
    "            video_len,\n",
    "            not_use_frames\n",
    "        )\n",
    "\n",
    "        param_log['tp_{}'.format(video_info['source'])] = video_tp\n",
    "        param_log['fp_{}'.format(video_info['source'])] = video_fp\n",
    "        param_log['tn_{}'.format(video_info['source'])] = video_tn\n",
    "        param_log['fn_{}'.format(video_info['source'])] = video_fn\n",
    "        param_log['_mean_f1_score'].append(param_log['f1_score_{}'.format(video_info['source'])])\n",
    "    param_log['_mean_f1_score'] = np.mean(param_log['_mean_f1_score'])\n",
    "    return param_log"
   ],
   "metadata": {
    "collapsed": false
   }
  },
  {
   "cell_type": "code",
   "execution_count": 15,
   "metadata": {},
   "outputs": [
    {
     "name": "stderr",
     "output_type": "stream",
     "text": [
      "C:\\Users\\doodo\\AppData\\Local\\Temp\\ipykernel_20484\\3144252180.py:6: TqdmDeprecationWarning: This function will be removed in tqdm==5.0.0\n",
      "Please use `tqdm.notebook.tqdm` instead of `tqdm.tqdm_notebook`\n",
      "  for video_info in tqdm(video_dataset, leave=False):\n"
     ]
    },
    {
     "data": {
      "text/plain": "  0%|          | 0/2 [00:00<?, ?it/s]",
      "application/vnd.jupyter.widget-view+json": {
       "version_major": 2,
       "version_minor": 0,
       "model_id": "2396b8ddc998446bb1610edf663605c2"
      },
      "application/json": {
       "n": 0,
       "total": 2,
       "elapsed": 0.00657343864440918,
       "ncols": null,
       "nrows": null,
       "prefix": "",
       "ascii": false,
       "unit": "it",
       "unit_scale": false,
       "rate": null,
       "bar_format": null,
       "postfix": null,
       "unit_divisor": 1000,
       "initial": 0,
       "colour": null
      }
     },
     "metadata": {},
     "output_type": "display_data"
    },
    {
     "name": "stderr",
     "output_type": "stream",
     "text": [
      "C:\\Users\\doodo\\AppData\\Local\\Temp\\ipykernel_20484\\3588072560.py:44: TqdmDeprecationWarning: This function will be removed in tqdm==5.0.0\n",
      "Please use `tqdm.notebook.tqdm` instead of `tqdm.tqdm_notebook`\n",
      "  for idx, frame in tqdm(enumerate(frames), leave=False):\n"
     ]
    },
    {
     "data": {
      "text/plain": "0it [00:00, ?it/s]",
      "application/vnd.jupyter.widget-view+json": {
       "version_major": 2,
       "version_minor": 0,
       "model_id": "d413b35afc45408cb4654846f7e08317"
      },
      "application/json": {
       "n": 0,
       "total": null,
       "elapsed": 0.010298728942871094,
       "ncols": null,
       "nrows": null,
       "prefix": "",
       "ascii": false,
       "unit": "it",
       "unit_scale": false,
       "rate": null,
       "bar_format": null,
       "postfix": null,
       "unit_divisor": 1000,
       "initial": 0,
       "colour": null
      }
     },
     "metadata": {},
     "output_type": "display_data"
    },
    {
     "name": "stderr",
     "output_type": "stream",
     "text": [
      "C:\\Users\\doodo\\AppData\\Local\\Temp\\ipykernel_20484\\3588072560.py:44: TqdmDeprecationWarning: This function will be removed in tqdm==5.0.0\n",
      "Please use `tqdm.notebook.tqdm` instead of `tqdm.tqdm_notebook`\n",
      "  for idx, frame in tqdm(enumerate(frames), leave=False):\n"
     ]
    },
    {
     "data": {
      "text/plain": "0it [00:00, ?it/s]",
      "application/vnd.jupyter.widget-view+json": {
       "version_major": 2,
       "version_minor": 0,
       "model_id": "544fa44f8b50461990438aa8f99519d6"
      },
      "application/json": {
       "n": 0,
       "total": null,
       "elapsed": 0.006003379821777344,
       "ncols": null,
       "nrows": null,
       "prefix": "",
       "ascii": false,
       "unit": "it",
       "unit_scale": false,
       "rate": null,
       "bar_format": null,
       "postfix": null,
       "unit_divisor": 1000,
       "initial": 0,
       "colour": null
      }
     },
     "metadata": {},
     "output_type": "display_data"
    },
    {
     "data": {
      "text/plain": "{'_mean_f1_score': 0.8611111111111112,\n 'f1_score_video/14.mp4': 0.7222222222222222,\n 'tp_video/14.mp4': 39,\n 'fp_video/14.mp4': 29,\n 'tn_video/14.mp4': 1872,\n 'fn_video/14.mp4': 1,\n 'f1_score_video/08.mp4': 1.0,\n 'tp_video/08.mp4': 23,\n 'fp_video/08.mp4': 0,\n 'tn_video/08.mp4': 2587,\n 'fn_video/08.mp4': 0}"
     },
     "execution_count": 15,
     "metadata": {},
     "output_type": "execute_result"
    }
   ],
   "source": [
    "video_dataset_path = 'test_dataset'\n",
    "#Протестируем разработанный вами метод\n",
    "run_scene_change_detector_all_video(baseline_scene_change_detection_ml, video_dataset_path)"
   ]
  },
  {
   "cell_type": "code",
   "execution_count": 111,
   "outputs": [],
   "source": [
    "def calculate_matrix_dissolve(true_scd, predicted_scd, scene_len):\n",
    "    tp, fp, tn, fn = 0, 0, 0, 0\n",
    "    scene_len = scene_len\n",
    "    checked_dissolve_segments = set()\n",
    "    total_scene_dissolve_len = np.sum([dissolve_segment[1] - dissolve_segment[0] + 1 for dissolve_segment in true_scd])\n",
    "    for scd in predicted_scd:\n",
    "        for dissolve_segment in true_scd:\n",
    "            if scd in range(dissolve_segment[0], dissolve_segment[1] + 1):\n",
    "                tp += 1\n",
    "                checked_dissolve_segments.add(tuple(dissolve_segment))\n",
    "                break\n",
    "        else:\n",
    "            fp += 1\n",
    "    fn = len(true_scd) - len(checked_dissolve_segments)\n",
    "    tn = scene_len - total_scene_dissolve_len + len(true_scd) - tp - fp - fn\n",
    "    return tp, fp, tn, fn\n",
    "\n",
    "\n",
    "def f1_score_dissolve(true_scd, predicted_scd, scene_len):\n",
    "    tp, fp, tn, fn = calculate_matrix_dissolve(true_scd, predicted_scd, scene_len)\n",
    "    precision_score = calculate_precision(tp, fp, tn, fn)\n",
    "    recall_score = calculate_recall(tp, fp, tn, fn)\n",
    "    if precision_score + recall_score == 0:\n",
    "        return 0\n",
    "    else:\n",
    "        return 2 * precision_score * recall_score / (precision_score + recall_score)"
   ],
   "metadata": {
    "collapsed": false
   }
  },
  {
   "cell_type": "code",
   "execution_count": 112,
   "metadata": {},
   "outputs": [],
   "source": [
    "def run_scene_change_detector_all_video_dissolve(scene_change_detector, dataset_path):\n",
    "    video_dataset = load_json_from_file(os.path.join(dataset_path, 'info.json'))\n",
    "    param_log = {\n",
    "        '_mean_f1_score': []\n",
    "    }\n",
    "    for video_info in tqdm(video_dataset, leave=False):\n",
    "        frames = read_video(os.path.join(dataset_path, video_info['source']))\n",
    "        video_len = video_info['len']\n",
    "        true_scene_changes = load_json_from_file(os.path.join(dataset_path, video_info['scene_change']))\n",
    "\n",
    "        predicted_scene_changes = scene_change_detector(frames)\n",
    "        param_log['f1_score_{}'.format(video_info['source'])] = f1_score_dissolve(\n",
    "            true_scene_changes.get('dissolve', []),\n",
    "            predicted_scene_changes,\n",
    "            video_len\n",
    "        )\n",
    "        video_tp, video_fp, video_tn, video_fn = calculate_matrix_dissolve(\n",
    "            true_scene_changes.get('dissolve', []),\n",
    "            predicted_scene_changes,\n",
    "            video_len\n",
    "        )\n",
    "        param_log['tp_{}'.format(video_info['source'])] = video_tp\n",
    "        param_log['fp_{}'.format(video_info['source'])] = video_fp\n",
    "        param_log['tn_{}'.format(video_info['source'])] = video_tn\n",
    "        param_log['fn_{}'.format(video_info['source'])] = video_fn\n",
    "        param_log['_mean_f1_score'].append(param_log['f1_score_{}'.format(video_info['source'])])\n",
    "    param_log['_mean_f1_score'] = np.mean(param_log['_mean_f1_score'])\n",
    "    return param_log"
   ]
  },
  {
   "cell_type": "code",
   "execution_count": 126,
   "outputs": [
    {
     "name": "stderr",
     "output_type": "stream",
     "text": [
      "C:\\Users\\doodo\\AppData\\Local\\Temp\\ipykernel_1852\\756319126.py:6: TqdmDeprecationWarning: This function will be removed in tqdm==5.0.0\n",
      "Please use `tqdm.notebook.tqdm` instead of `tqdm.tqdm_notebook`\n",
      "  for video_info in tqdm(video_dataset, leave=False):\n"
     ]
    },
    {
     "data": {
      "text/plain": "  0%|          | 0/2 [00:00<?, ?it/s]",
      "application/vnd.jupyter.widget-view+json": {
       "version_major": 2,
       "version_minor": 0,
       "model_id": "ec919bd1a75c49759d9709d50151cb2a"
      },
      "application/json": {
       "n": 0,
       "total": 2,
       "elapsed": 0.007414817810058594,
       "ncols": null,
       "nrows": null,
       "prefix": "",
       "ascii": false,
       "unit": "it",
       "unit_scale": false,
       "rate": null,
       "bar_format": null,
       "postfix": null,
       "unit_divisor": 1000,
       "initial": 0,
       "colour": null
      }
     },
     "metadata": {},
     "output_type": "display_data"
    },
    {
     "name": "stderr",
     "output_type": "stream",
     "text": [
      "C:\\Users\\doodo\\AppData\\Local\\Temp\\ipykernel_1852\\3017070526.py:44: TqdmDeprecationWarning: This function will be removed in tqdm==5.0.0\n",
      "Please use `tqdm.notebook.tqdm` instead of `tqdm.tqdm_notebook`\n",
      "  for idx, frame in tqdm(enumerate(frames), leave=False):\n"
     ]
    },
    {
     "data": {
      "text/plain": "0it [00:00, ?it/s]",
      "application/vnd.jupyter.widget-view+json": {
       "version_major": 2,
       "version_minor": 0,
       "model_id": "55aeb7c8bdd442e19eb4cba5b43489fd"
      },
      "application/json": {
       "n": 0,
       "total": null,
       "elapsed": 0.009185075759887695,
       "ncols": null,
       "nrows": null,
       "prefix": "",
       "ascii": false,
       "unit": "it",
       "unit_scale": false,
       "rate": null,
       "bar_format": null,
       "postfix": null,
       "unit_divisor": 1000,
       "initial": 0,
       "colour": null
      }
     },
     "metadata": {},
     "output_type": "display_data"
    },
    {
     "name": "stderr",
     "output_type": "stream",
     "text": [
      "C:\\Users\\doodo\\AppData\\Local\\Temp\\ipykernel_1852\\3017070526.py:44: TqdmDeprecationWarning: This function will be removed in tqdm==5.0.0\n",
      "Please use `tqdm.notebook.tqdm` instead of `tqdm.tqdm_notebook`\n",
      "  for idx, frame in tqdm(enumerate(frames), leave=False):\n"
     ]
    },
    {
     "data": {
      "text/plain": "0it [00:00, ?it/s]",
      "application/vnd.jupyter.widget-view+json": {
       "version_major": 2,
       "version_minor": 0,
       "model_id": "ee1b41806f04464bbcc05af2c30bc0f6"
      },
      "application/json": {
       "n": 0,
       "total": null,
       "elapsed": 0.006009578704833984,
       "ncols": null,
       "nrows": null,
       "prefix": "",
       "ascii": false,
       "unit": "it",
       "unit_scale": false,
       "rate": null,
       "bar_format": null,
       "postfix": null,
       "unit_divisor": 1000,
       "initial": 0,
       "colour": null
      }
     },
     "metadata": {},
     "output_type": "display_data"
    },
    {
     "data": {
      "text/plain": "{'_mean_f1_score': 0.11695906432748539,\n 'f1_score_video/14.mp4': 0.23391812865497078,\n 'tp_video/14.mp4': 40,\n 'fp_video/14.mp4': 262,\n 'tn_video/14.mp4': 1987,\n 'fn_video/14.mp4': 0,\n 'f1_score_video/08.mp4': 0,\n 'tp_video/08.mp4': 0,\n 'fp_video/08.mp4': 123,\n 'tn_video/08.mp4': 3213,\n 'fn_video/08.mp4': 1}"
     },
     "execution_count": 126,
     "metadata": {},
     "output_type": "execute_result"
    }
   ],
   "source": [
    "video_dataset_path = 'test_dataset'\n",
    "run_scene_change_detector_all_video_dissolve(baseline_scene_change_detection_ml, video_dataset_path)"
   ],
   "metadata": {
    "collapsed": false
   }
  },
  {
   "cell_type": "code",
   "execution_count": null,
   "outputs": [],
   "source": [],
   "metadata": {
    "collapsed": false
   }
  }
 ],
 "metadata": {
  "kernelspec": {
   "display_name": "Python 3 (ipykernel)",
   "language": "python",
   "name": "python3"
  },
  "language_info": {
   "codemirror_mode": {
    "name": "ipython",
    "version": 3
   },
   "file_extension": ".py",
   "mimetype": "text/x-python",
   "name": "python",
   "nbconvert_exporter": "python",
   "pygments_lexer": "ipython3",
   "version": "3.10.2"
  }
 },
 "nbformat": 4,
 "nbformat_minor": 1
}
