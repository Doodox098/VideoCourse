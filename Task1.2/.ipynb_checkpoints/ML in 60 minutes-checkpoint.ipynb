{
 "cells": [
  {
   "cell_type": "markdown",
   "metadata": {},
   "source": [
    "# Машинное обучение за час #"
   ]
  },
  {
   "cell_type": "markdown",
   "metadata": {},
   "source": [
    "*Внимание! Этот ноутбук не способен заменить полноценный курс по ML или даже одну его лекцию. Цель данного ноутбука — показать, что это круто, интересно и даже может работать.*"
   ]
  },
  {
   "cell_type": "markdown",
   "metadata": {},
   "source": [
    "<img src=\"files/ml.jpg\">"
   ]
  },
  {
   "cell_type": "markdown",
   "metadata": {},
   "source": [
    "Если вы хотите и изучить теоретические и практические основы ML, авторы рекомендуют:\n",
    "1. [Курс машинному обучению от Воронцова](http://www.machinelearning.ru/wiki/index.php?title=%D0%9C%D0%B0%D1%88%D0%B8%D0%BD%D0%BD%D0%BE%D0%B5_%D0%BE%D0%B1%D1%83%D1%87%D0%B5%D0%BD%D0%B8%D0%B5_%28%D0%BA%D1%83%D1%80%D1%81_%D0%BB%D0%B5%D0%BA%D1%86%D0%B8%D0%B9%2C_%D0%9A.%D0%92.%D0%92%D0%BE%D1%80%D0%BE%D0%BD%D1%86%D0%BE%D0%B2%29)\n",
    "2. Любой другой курс на Coursera\n",
    "3. Очень, очень много практики"
   ]
  },
  {
   "cell_type": "markdown",
   "metadata": {},
   "source": [
    "## 1. Постановка задачи ##"
   ]
  },
  {
   "cell_type": "markdown",
   "metadata": {},
   "source": [
    "На [IMDb](https://www.imdb.com/) к каждому фильму расставлены теги (например, Comedy, Romance, Animation, Adventure). Давайте попробуем решить следующую задачу: по кадру из фильма определить, является ли этот фильм анимацией, или нет.  \n",
    "Подобная задача называется **задачей классификации** (это когда нам нужно отнести каждый объект к определённому классу, ещё есть **задача регрессии** — например, предсказывание температуры воздуха, и **задача ранжирования** — например, определение более релевантных документов в поисковой выдаче)"
   ]
  },
  {
   "cell_type": "markdown",
   "metadata": {},
   "source": [
    "<img src=\"files/hesher.jpg\">\n",
    "<h4><i><center>Это не анимация</center></i></h4>"
   ]
  },
  {
   "cell_type": "markdown",
   "metadata": {},
   "source": [
    "<img src=\"files/secret_kells.jpg\">\n",
    "<h4><i><center>Это анимация</center></i></h4>"
   ]
  },
  {
   "cell_type": "markdown",
   "metadata": {},
   "source": [
    "Как бы задача не была приближена к реальности, всегда стоит ввести более-менее формальную постановку задачи: мы должны ввести метрику качества, на основе которой будем принимать решение, а также понять входные и выходные параметры метода."
   ]
  },
  {
   "cell_type": "markdown",
   "metadata": {},
   "source": [
    "**Вопрос.** Что у на входе алгоритма? Что на выходе? Какая метрика качества?"
   ]
  },
  {
   "cell_type": "markdown",
   "metadata": {},
   "source": [
    "*Что я думаю по этому поводу*"
   ]
  },
  {
   "cell_type": "markdown",
   "metadata": {},
   "source": [
    "## 2. Загрузка данных ##"
   ]
  },
  {
   "cell_type": "markdown",
   "metadata": {},
   "source": [
    "Как правило, в таких задачах есть открытая выборка, ответы для которой доступны всем, и закрытая, на которой производится итоговое тестирование алгоритма. В нашем случае открытая выборка описывается в файле *train_dataset.json*, а закрытая в *test_dataset.json*  "
   ]
  },
  {
   "cell_type": "code",
   "execution_count": 4,
   "metadata": {
    "pycharm": {
     "is_executing": true
    }
   },
   "outputs": [],
   "source": [
    "import json\n",
    "\n",
    "def load_json_from_file(filename):\n",
    "    with open(filename, \"r\") as f:\n",
    "        return json.load(f, strict=False)"
   ]
  },
  {
   "cell_type": "code",
   "execution_count": 5,
   "metadata": {
    "scrolled": true
   },
   "outputs": [
    {
     "data": {
      "text/plain": [
       "{'idx': 0,\n",
       " 'image': 'train_data/images/0.jpg',\n",
       " 'title': 'バトル・ロワイアル',\n",
       " 'is_animation': False,\n",
       " 'score': 7.3}"
      ]
     },
     "execution_count": 5,
     "metadata": {},
     "output_type": "execute_result"
    }
   ],
   "source": [
    "train_data = load_json_from_file('train_dataset.json')\n",
    "train_data[0]"
   ]
  },
  {
   "cell_type": "code",
   "execution_count": 6,
   "metadata": {},
   "outputs": [
    {
     "data": {
      "text/plain": [
       "{'idx': 0,\n",
       " 'image': 'test_data/images/0.jpg',\n",
       " 'title': 'The Human Centipede (First Sequence)',\n",
       " 'is_animation': False,\n",
       " 'score': 4.9}"
      ]
     },
     "execution_count": 6,
     "metadata": {},
     "output_type": "execute_result"
    }
   ],
   "source": [
    "test_data = load_json_from_file('test_dataset.json')\n",
    "test_data[0]"
   ]
  },
  {
   "cell_type": "code",
   "execution_count": null,
   "metadata": {},
   "outputs": [],
   "source": [
    "import matplotlib.pyplot as plt\n",
    "from PIL impor"
   ]
  },
  {
   "cell_type": "markdown",
   "metadata": {},
   "source": [
    "Информация о каждом фильме хранится в виде списка из словарей. Чтобы удобнее работать с такими данными, лучше представить их в виде именованных таблиц. Для этого нам поможет библиотека pandas:"
   ]
  },
  {
   "cell_type": "code",
   "execution_count": null,
   "metadata": {},
   "outputs": [],
   "source": [
    "import pandas as pd"
   ]
  },
  {
   "cell_type": "code",
   "execution_count": null,
   "metadata": {},
   "outputs": [],
   "source": [
    "train_df = pd.DataFrame(train_data)\n",
    "test_df = pd.DataFrame(test_data)\n",
    "train_df.head()"
   ]
  },
  {
   "cell_type": "code",
   "execution_count": null,
   "metadata": {},
   "outputs": [],
   "source": [
    "test_df.iloc[32:34]"
   ]
  },
  {
   "cell_type": "markdown",
   "metadata": {},
   "source": [
    "Зачем это нужно? Например, мы можем в одну строку посмотреть только те фильмы, которые являются анимационными:"
   ]
  },
  {
   "cell_type": "code",
   "execution_count": null,
   "metadata": {},
   "outputs": [],
   "source": [
    "train_df[train_df.is_animation == True]"
   ]
  },
  {
   "cell_type": "markdown",
   "metadata": {},
   "source": [
    "Или посмотреть на самые высокооценённые фильмы:"
   ]
  },
  {
   "cell_type": "code",
   "execution_count": null,
   "metadata": {},
   "outputs": [],
   "source": [
    "train_df.sort_values(by='score', ascending=False).head(20)"
   ]
  },
  {
   "cell_type": "code",
   "execution_count": null,
   "metadata": {},
   "outputs": [],
   "source": [
    "train_df[train_df.is_animation == False]"
   ]
  },
  {
   "cell_type": "markdown",
   "metadata": {},
   "source": [
    "**Теперь мы можем ответить на вопрос, какую метрику использовать**"
   ]
  },
  {
   "cell_type": "markdown",
   "metadata": {},
   "source": [
    "Давайте также посмотрим на примеры картинок, с которыми мы будем работать"
   ]
  },
  {
   "cell_type": "code",
   "execution_count": null,
   "metadata": {},
   "outputs": [],
   "source": [
    "import matplotlib.pyplot as plt\n",
    "import seaborn as sns\n",
    "%matplotlib inline\n",
    "sns.set_context('poster')\n",
    "plt.rcParams['font.family'] = 'Arial'\n",
    "\n",
    "import cv2"
   ]
  },
  {
   "cell_type": "code",
   "execution_count": null,
   "metadata": {},
   "outputs": [],
   "source": [
    "import numpy as np\n",
    "def visualize_examples(images, cols=3, titles=None):\n",
    "    assert len(images) == len(titles)\n",
    "    n_images = len(images)\n",
    "    fig = plt.figure()\n",
    "    for n, (image, title) in enumerate(zip(images, titles)):\n",
    "        a = fig.add_subplot(cols, int(np.ceil(n_images/float(cols))), n + 1)\n",
    "        if image.ndim == 2:\n",
    "            plt.gray()\n",
    "        plt.imshow(image)\n",
    "        plt.axis('off')\n",
    "        a.set_title(title, font='DejaVu Sans')\n",
    "    fig.set_size_inches(np.array(fig.get_size_inches()) * n_images)\n",
    "    plt.show()"
   ]
  },
  {
   "cell_type": "code",
   "execution_count": null,
   "metadata": {},
   "outputs": [],
   "source": [
    "# Проверка для использования названий только с печатаемыми буквами\n",
    "def is_latin_or_cyrillic(text):\n",
    "    allowed_chars = '0123456789' \\\n",
    "                  + 'abcdefghijklmnopqrstuvwxyzABCDEFGHIJKLMNOPQRSTUVWXYZ' \\\n",
    "                  + 'АаБбВвГгДдЕеЁёЖжЗзИиЙйКкЛлМмНнОоПпРрСсТтУуФфХхЦцЧчШшЩщЪъЫыЬьЭэЮюЯя' \\\n",
    "                  + '!\"#$%&\\'()*+,-./:;<=>?@[\\\\]^_`{|}~ \\t\\n\\r\\x0b\\x0c'\n",
    "    return len(set(text) - set(allowed_chars)) == 0"
   ]
  },
  {
   "cell_type": "code",
   "execution_count": null,
   "metadata": {
    "tags": []
   },
   "outputs": [],
   "source": [
    "train_animation_sample = train_df[(train_df.is_animation == True) & (train_df.title.apply(is_latin_or_cyrillic))].head(9)\n",
    "animation_examples = [cv2.imread(path)[:, :, ::-1] for path in train_animation_sample['image']]\n",
    "visualize_examples(animation_examples, titles=train_animation_sample['title'])"
   ]
  },
  {
   "cell_type": "code",
   "execution_count": null,
   "metadata": {
    "tags": []
   },
   "outputs": [],
   "source": [
    "train_not_animation_sample = train_df[(train_df.is_animation == False) & (train_df.title.apply(is_latin_or_cyrillic))].head(9)\n",
    "regular_examples = [cv2.imread(path)[:, :, ::-1] for path in train_not_animation_sample['image']]\n",
    "visualize_examples(regular_examples, titles=train_not_animation_sample['title'])"
   ]
  },
  {
   "cell_type": "markdown",
   "metadata": {},
   "source": [
    "## 3. Придумываем признаки ##"
   ]
  },
  {
   "cell_type": "markdown",
   "metadata": {},
   "source": [
    "Как и в случае с детектором смен сцен, нам нужно придумать признаки, которые бы неплохо описывали природу исходного изображения "
   ]
  },
  {
   "cell_type": "markdown",
   "metadata": {},
   "source": [
    "**Вопрос.** Какие признаки будем использовать?"
   ]
  },
  {
   "cell_type": "code",
   "execution_count": null,
   "metadata": {},
   "outputs": [],
   "source": [
    "from tqdm.notebook import tqdm"
   ]
  },
  {
   "cell_type": "code",
   "execution_count": null,
   "metadata": {},
   "outputs": [],
   "source": [
    "def features_function(image):\n",
    "    return {'pixel': image[0, 0, 0]}"
   ]
  },
  {
   "cell_type": "code",
   "execution_count": null,
   "metadata": {},
   "outputs": [],
   "source": [
    "def generate_table(data):\n",
    "    table = []\n",
    "    for node in tqdm(data):\n",
    "        current_features = {}\n",
    "        image = cv2.imread(node['image'])\n",
    "        \n",
    "        current_features.update(features_function(image))\n",
    "        \n",
    "        current_features['is_animation'] = node['is_animation']\n",
    "        table.append(current_features)\n",
    "    return table"
   ]
  },
  {
   "cell_type": "code",
   "execution_count": null,
   "metadata": {},
   "outputs": [],
   "source": [
    "train_features = pd.DataFrame(generate_table(train_data))\n",
    "test_features = pd.DataFrame(generate_table(test_data))"
   ]
  },
  {
   "cell_type": "code",
   "execution_count": null,
   "metadata": {},
   "outputs": [],
   "source": [
    "train_features"
   ]
  },
  {
   "cell_type": "markdown",
   "metadata": {},
   "source": [
    "## 4. Science staff ##"
   ]
  },
  {
   "cell_type": "markdown",
   "metadata": {},
   "source": [
    "<img src=\"files/science.jpg\">"
   ]
  },
  {
   "cell_type": "markdown",
   "metadata": {},
   "source": [
    "Если бы мы решали задачу обычным способом, то нам пришлось бы писать какие-то условия, выставлять пороги и т.д поверх наших признаков. По сути, машинное обучение будет решать эту задачу за нас.  \n",
    "Существует очень много методов машинного обучения, каждый из них в определённых условиях может работать лучше. Чтобы понимать заранее, когда какой метод лучше использовать, нужно понимать их теорию, но мы всегда сможем перебрать все способы :3"
   ]
  },
  {
   "cell_type": "code",
   "execution_count": null,
   "metadata": {},
   "outputs": [],
   "source": [
    "from sklearn.linear_model import LogisticRegression"
   ]
  },
  {
   "cell_type": "code",
   "execution_count": null,
   "metadata": {},
   "outputs": [],
   "source": [
    "train_X = train_features.drop('is_animation', axis=1)\n",
    "train_y = train_features['is_animation']"
   ]
  },
  {
   "cell_type": "code",
   "execution_count": null,
   "metadata": {},
   "outputs": [],
   "source": [
    "test_X = test_features.drop('is_animation', axis=1)\n",
    "test_y = test_features['is_animation']"
   ]
  },
  {
   "cell_type": "code",
   "execution_count": null,
   "metadata": {},
   "outputs": [],
   "source": [
    "clf = LogisticRegression()"
   ]
  },
  {
   "cell_type": "code",
   "execution_count": null,
   "metadata": {},
   "outputs": [],
   "source": [
    "clf.fit(train_X, train_y)"
   ]
  },
  {
   "cell_type": "code",
   "execution_count": null,
   "metadata": {},
   "outputs": [],
   "source": [
    "train_Y = clf.predict(train_X)\n",
    "test_Y = clf.predict(test_X)"
   ]
  },
  {
   "cell_type": "code",
   "execution_count": null,
   "metadata": {},
   "outputs": [],
   "source": [
    "print('Метрика на тренировочной выборке', {Ваша метрика}(train_y, train_Y))\n",
    "print('Метрика на контрольной выборке', {Ваша метрика}(test_y, test_Y))"
   ]
  },
  {
   "cell_type": "markdown",
   "metadata": {},
   "source": [
    "**Вопрос.** Почему на тренировочной выборке метрика лучше, чем на контрольной? Верно ли, что если на тренировочной выборке у одного алгоритма качество лучше, чем у второго, то будет ли метрика лучше на контрольной?"
   ]
  },
  {
   "cell_type": "markdown",
   "metadata": {},
   "source": [
    "## 5. Эксперименты и что может пойти не так ##"
   ]
  },
  {
   "cell_type": "markdown",
   "metadata": {},
   "source": [
    "Во-первых, нам немного повезло — у нас есть контрольная выборка, на которой мы всегда можем проверить качество на ней. Вообще стоит сказать, что в первую очередь стоит обращать внимание на качество именно на контрольной выборке (на которой мы не обучались), так как она именно показывает способность обобщать знания, полученные на тренировочной выборке.\n",
    "\n",
    "В задача детектора смены сцен контрльной выборке нет — её нужно создать самому, отделив какую-то часть из тренировочной."
   ]
  },
  {
   "cell_type": "code",
   "execution_count": null,
   "metadata": {},
   "outputs": [],
   "source": [
    "from sklearn.model_selection import train_test_split\n",
    "# Разделить выборку на тренировочную и валидационную. В валидационной выборке окажется 20% всех примеров\n",
    "new_train, new_val = train_test_split(train_data, test_size=0.2) "
   ]
  },
  {
   "cell_type": "markdown",
   "metadata": {},
   "source": [
    "Другой вариант — использовать кросс-валидацию, когда алгоритм обучается несколько раз, для каждого алгоритма исключается из тренировочной выборки небольшая часть примеров, на которых затем замеряются метрики."
   ]
  },
  {
   "cell_type": "markdown",
   "metadata": {},
   "source": [
    "<img src=\"files/cv.png\">"
   ]
  },
  {
   "cell_type": "markdown",
   "metadata": {},
   "source": [
    "Что ещё может пойти не так при замере метрик? В тренировочной и контрольной выборки должны быть более-менее независимые примеры. Например, в задании выше вполне могло оказаться, чтобы кадр из \"Истории игрушек\" был в обучении, а кадр из \"Истории игрушек 2\" оказался в контрольной выборке. Так делать нельзя, и такие ошибки приводят к большим расстройствам при оглашении результатов задания. "
   ]
  },
  {
   "cell_type": "markdown",
   "metadata": {},
   "source": [
    "Во-вторых, нам немного повезло, что мы достаточно быстро получили хорошее решение, и мы не пытаемся никак его улучшить. Улучшить алгоритм можно несколькими способами — например, добавить новые признаки, или опробовать новый классификатор. Важно использовать принцип \"одно изменение = один эксперимент\", т.е нельзя сравнивать алгоритм с предыдущей версией после 10 изменений — можно пропустить и хорошее изменение вместе с несколькими плохими, и наоборот, добавить несколько плохих изменений вместе с хорошими"
   ]
  },
  {
   "cell_type": "markdown",
   "metadata": {},
   "source": [
    "В-третьих, данных может быть мало. Чтобы увеличить выборку, можно попробовать поворачивать/увеличивать/обрезать/менять яркость или контрастность. Это называется аугментацией"
   ]
  },
  {
   "cell_type": "markdown",
   "metadata": {},
   "source": [
    "## 6. Немного контрольных вопросов ##"
   ]
  },
  {
   "cell_type": "markdown",
   "metadata": {},
   "source": [
    "Попробуйте ответить на следующие вопросы:\n",
    "* Пусть мы пытаемся определить фотографии кошек от фотографий собак. В тренировочной выборке около 500 кошек и 500 собак. Какие метрики качества можно использовать?\n",
    "* Какие признаки стоит ещё попробовать для решения текущей задачи?\n",
    "* Представим, что в текущей задаче было бы не по одному кадру из фильма, а по 10-20 штук. Как в таком случае разделить выборку на тренировочную и контрольную самым правильным способом?"
   ]
  }
 ],
 "metadata": {
  "kernelspec": {
   "display_name": "Python 3 (ipykernel)",
   "language": "python",
   "name": "python3"
  },
  "language_info": {
   "codemirror_mode": {
    "name": "ipython",
    "version": 3
   },
   "file_extension": ".py",
   "mimetype": "text/x-python",
   "name": "python",
   "nbconvert_exporter": "python",
   "pygments_lexer": "ipython3",
   "version": "3.10.2"
  }
 },
 "nbformat": 4,
 "nbformat_minor": 4
}
